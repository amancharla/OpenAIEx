{
  "nbformat": 4,
  "nbformat_minor": 0,
  "metadata": {
    "colab": {
      "provenance": []
    },
    "kernelspec": {
      "name": "python3",
      "display_name": "Python 3"
    },
    "language_info": {
      "name": "python"
    }
  },
  "cells": [
    {
      "cell_type": "markdown",
      "source": [
        "https://cookbook.openai.com/examples/assistants_api_overview_python"
      ],
      "metadata": {
        "id": "QLaYkMqzWR8C"
      }
    },
    {
      "cell_type": "code",
      "execution_count": null,
      "metadata": {
        "colab": {
          "base_uri": "https://localhost:8080/"
        },
        "id": "z0zyi6IRKYEY",
        "outputId": "c7ef7bf9-6b3c-4913-958b-0587b0da3548"
      },
      "outputs": [
        {
          "output_type": "stream",
          "name": "stdout",
          "text": [
            "Collecting openai\n",
            "  Downloading openai-1.3.7-py3-none-any.whl (221 kB)\n",
            "\u001b[?25l     \u001b[90m━━━━━━━━━━━━━━━━━━━━━━━━━━━━━━━━━━━━━━━━\u001b[0m \u001b[32m0.0/221.4 kB\u001b[0m \u001b[31m?\u001b[0m eta \u001b[36m-:--:--\u001b[0m\r\u001b[2K     \u001b[91m━━━━━━━━━━━━━━━━━━━━━━━━━━━━━━━━━━━\u001b[0m\u001b[90m╺\u001b[0m\u001b[90m━━━━\u001b[0m \u001b[32m194.6/221.4 kB\u001b[0m \u001b[31m5.6 MB/s\u001b[0m eta \u001b[36m0:00:01\u001b[0m\r\u001b[2K     \u001b[90m━━━━━━━━━━━━━━━━━━━━━━━━━━━━━━━━━━━━━━━━\u001b[0m \u001b[32m221.4/221.4 kB\u001b[0m \u001b[31m4.9 MB/s\u001b[0m eta \u001b[36m0:00:00\u001b[0m\n",
            "\u001b[?25hRequirement already satisfied: anyio<4,>=3.5.0 in /usr/local/lib/python3.10/dist-packages (from openai) (3.7.1)\n",
            "Requirement already satisfied: distro<2,>=1.7.0 in /usr/lib/python3/dist-packages (from openai) (1.7.0)\n",
            "Collecting httpx<1,>=0.23.0 (from openai)\n",
            "  Downloading httpx-0.25.2-py3-none-any.whl (74 kB)\n",
            "\u001b[2K     \u001b[90m━━━━━━━━━━━━━━━━━━━━━━━━━━━━━━━━━━━━━━━━\u001b[0m \u001b[32m75.0/75.0 kB\u001b[0m \u001b[31m5.3 MB/s\u001b[0m eta \u001b[36m0:00:00\u001b[0m\n",
            "\u001b[?25hRequirement already satisfied: pydantic<3,>=1.9.0 in /usr/local/lib/python3.10/dist-packages (from openai) (1.10.13)\n",
            "Requirement already satisfied: sniffio in /usr/local/lib/python3.10/dist-packages (from openai) (1.3.0)\n",
            "Requirement already satisfied: tqdm>4 in /usr/local/lib/python3.10/dist-packages (from openai) (4.66.1)\n",
            "Requirement already satisfied: typing-extensions<5,>=4.5 in /usr/local/lib/python3.10/dist-packages (from openai) (4.5.0)\n",
            "Requirement already satisfied: idna>=2.8 in /usr/local/lib/python3.10/dist-packages (from anyio<4,>=3.5.0->openai) (3.6)\n",
            "Requirement already satisfied: exceptiongroup in /usr/local/lib/python3.10/dist-packages (from anyio<4,>=3.5.0->openai) (1.2.0)\n",
            "Requirement already satisfied: certifi in /usr/local/lib/python3.10/dist-packages (from httpx<1,>=0.23.0->openai) (2023.11.17)\n",
            "Collecting httpcore==1.* (from httpx<1,>=0.23.0->openai)\n",
            "  Downloading httpcore-1.0.2-py3-none-any.whl (76 kB)\n",
            "\u001b[2K     \u001b[90m━━━━━━━━━━━━━━━━━━━━━━━━━━━━━━━━━━━━━━━━\u001b[0m \u001b[32m76.9/76.9 kB\u001b[0m \u001b[31m5.9 MB/s\u001b[0m eta \u001b[36m0:00:00\u001b[0m\n",
            "\u001b[?25hCollecting h11<0.15,>=0.13 (from httpcore==1.*->httpx<1,>=0.23.0->openai)\n",
            "  Downloading h11-0.14.0-py3-none-any.whl (58 kB)\n",
            "\u001b[2K     \u001b[90m━━━━━━━━━━━━━━━━━━━━━━━━━━━━━━━━━━━━━━━━\u001b[0m \u001b[32m58.3/58.3 kB\u001b[0m \u001b[31m7.8 MB/s\u001b[0m eta \u001b[36m0:00:00\u001b[0m\n",
            "\u001b[?25hInstalling collected packages: h11, httpcore, httpx, openai\n",
            "\u001b[31mERROR: pip's dependency resolver does not currently take into account all the packages that are installed. This behaviour is the source of the following dependency conflicts.\n",
            "llmx 0.0.15a0 requires cohere, which is not installed.\n",
            "llmx 0.0.15a0 requires tiktoken, which is not installed.\u001b[0m\u001b[31m\n",
            "\u001b[0mSuccessfully installed h11-0.14.0 httpcore-1.0.2 httpx-0.25.2 openai-1.3.7\n"
          ]
        }
      ],
      "source": [
        "!pip install --upgrade openai"
      ]
    },
    {
      "cell_type": "code",
      "source": [
        "!pip show openai | grep Version"
      ],
      "metadata": {
        "colab": {
          "base_uri": "https://localhost:8080/"
        },
        "id": "OByH7XL4Keac",
        "outputId": "d0830704-9caf-4e69-96c5-e5139e4dac04"
      },
      "execution_count": null,
      "outputs": [
        {
          "output_type": "stream",
          "name": "stdout",
          "text": [
            "Version: 1.3.7\n"
          ]
        }
      ]
    },
    {
      "cell_type": "code",
      "source": [
        "import json\n",
        "\n",
        "def show_json(obj):\n",
        "    display(json.loads(obj.model_dump_json()))"
      ],
      "metadata": {
        "id": "kFKqTre0KmWR"
      },
      "execution_count": null,
      "outputs": []
    },
    {
      "cell_type": "code",
      "source": [
        "import openai  # for OpenAI API calls\n",
        "import time  # for measuring time duration of API calls\n",
        "\n",
        "#from openai import OpenAI\n",
        "from google.colab import userdata\n",
        "\n",
        "userdata.get('OPENAI_API_KEY')\n",
        "openai.api_key = userdata.get('OPENAI_API_KEY')\n",
        "\n",
        "client = OpenAI(\n",
        "    # defaults to os.environ.get(\"OPENAI_API_KEY\")\n",
        "    api_key=openai.api_key,\n",
        ")\n",
        "\n",
        "assistant = client.beta.assistants.create(\n",
        "    name=\"Math Tutor\",\n",
        "    instructions=\"You are a personal math tutor. Answer questions briefly, in a sentence or less.\",\n",
        "    model=\"gpt-4-1106-preview\",\n",
        ")\n",
        "show_json(assistant)"
      ],
      "metadata": {
        "colab": {
          "base_uri": "https://localhost:8080/",
          "height": 196
        },
        "id": "IK95SFq6Kqwv",
        "outputId": "c17750ff-71fc-4cf4-afa3-ac9d89c71c5b"
      },
      "execution_count": null,
      "outputs": [
        {
          "output_type": "display_data",
          "data": {
            "text/plain": [
              "{'id': 'asst_atGhgUu6Ui8pvHKfio2gxEJo',\n",
              " 'created_at': 1701799873,\n",
              " 'description': None,\n",
              " 'file_ids': [],\n",
              " 'instructions': 'You are a personal math tutor. Answer questions briefly, in a sentence or less.',\n",
              " 'metadata': {},\n",
              " 'model': 'gpt-4-1106-preview',\n",
              " 'name': 'Math Tutor',\n",
              " 'object': 'assistant',\n",
              " 'tools': []}"
            ]
          },
          "metadata": {}
        }
      ]
    },
    {
      "cell_type": "code",
      "source": [
        "thread = client.beta.threads.create()\n",
        "show_json(thread)"
      ],
      "metadata": {
        "colab": {
          "base_uri": "https://localhost:8080/",
          "height": 88
        },
        "id": "RRLxqVcxLdm9",
        "outputId": "ee602f73-310c-4eae-978e-64ce9a1cb87c"
      },
      "execution_count": null,
      "outputs": [
        {
          "output_type": "display_data",
          "data": {
            "text/plain": [
              "{'id': 'thread_EWSRFOc9N42lQ7wZvnGu69TL',\n",
              " 'created_at': 1701799912,\n",
              " 'metadata': {},\n",
              " 'object': 'thread'}"
            ]
          },
          "metadata": {}
        }
      ]
    },
    {
      "cell_type": "code",
      "source": [
        "message = client.beta.threads.messages.create(\n",
        "    thread_id=thread.id,\n",
        "    role=\"user\",\n",
        "    content=\"I need to solve the equation `3x + 11 = 14`. Can you help me?\",\n",
        ")\n",
        "show_json(message)"
      ],
      "metadata": {
        "colab": {
          "base_uri": "https://localhost:8080/",
          "height": 231
        },
        "id": "_xchCgfVLhmS",
        "outputId": "0c3e0261-641a-40b1-bb65-02cb65e873f8"
      },
      "execution_count": null,
      "outputs": [
        {
          "output_type": "display_data",
          "data": {
            "text/plain": [
              "{'id': 'msg_xrOaRcTWL0rRqwDc8bEtaKkG',\n",
              " 'assistant_id': None,\n",
              " 'content': [{'text': {'annotations': [],\n",
              "    'value': 'I need to solve the equation `3x + 11 = 14`. Can you help me?'},\n",
              "   'type': 'text'}],\n",
              " 'created_at': 1701799929,\n",
              " 'file_ids': [],\n",
              " 'metadata': {},\n",
              " 'object': 'thread.message',\n",
              " 'role': 'user',\n",
              " 'run_id': None,\n",
              " 'thread_id': 'thread_EWSRFOc9N42lQ7wZvnGu69TL'}"
            ]
          },
          "metadata": {}
        }
      ]
    },
    {
      "cell_type": "code",
      "source": [
        "run = client.beta.threads.runs.create(\n",
        "    thread_id=thread.id,\n",
        "    assistant_id=assistant.id,\n",
        ")\n",
        "show_json(run)"
      ],
      "metadata": {
        "colab": {
          "base_uri": "https://localhost:8080/",
          "height": 338
        },
        "id": "tAYHIZntLmhG",
        "outputId": "c8d5b896-f457-44c7-ba46-a573a9f41048"
      },
      "execution_count": null,
      "outputs": [
        {
          "output_type": "display_data",
          "data": {
            "text/plain": [
              "{'id': 'run_nOrDOiMm3Zo3scmcrQNakeiz',\n",
              " 'assistant_id': 'asst_atGhgUu6Ui8pvHKfio2gxEJo',\n",
              " 'cancelled_at': None,\n",
              " 'completed_at': None,\n",
              " 'created_at': 1701799949,\n",
              " 'expires_at': 1701800549,\n",
              " 'failed_at': None,\n",
              " 'file_ids': [],\n",
              " 'instructions': 'You are a personal math tutor. Answer questions briefly, in a sentence or less.',\n",
              " 'last_error': None,\n",
              " 'metadata': {},\n",
              " 'model': 'gpt-4-1106-preview',\n",
              " 'object': 'thread.run',\n",
              " 'required_action': None,\n",
              " 'started_at': None,\n",
              " 'status': 'queued',\n",
              " 'thread_id': 'thread_EWSRFOc9N42lQ7wZvnGu69TL',\n",
              " 'tools': []}"
            ]
          },
          "metadata": {}
        }
      ]
    },
    {
      "cell_type": "code",
      "source": [
        "import time\n",
        "\n",
        "def wait_on_run(run, thread):\n",
        "    while run.status == \"queued\" or run.status == \"in_progress\":\n",
        "        run = client.beta.threads.runs.retrieve(\n",
        "            thread_id=thread.id,\n",
        "            run_id=run.id,\n",
        "        )\n",
        "        time.sleep(0.5)\n",
        "    return run"
      ],
      "metadata": {
        "id": "rvLIf_EMLqwr"
      },
      "execution_count": null,
      "outputs": []
    },
    {
      "cell_type": "code",
      "source": [
        "run = wait_on_run(run, thread)\n",
        "show_json(run)"
      ],
      "metadata": {
        "colab": {
          "base_uri": "https://localhost:8080/",
          "height": 338
        },
        "id": "lKuDCE0pLuN-",
        "outputId": "7dfc1ccc-6a55-4f99-a7df-1c072d42859d"
      },
      "execution_count": null,
      "outputs": [
        {
          "output_type": "display_data",
          "data": {
            "text/plain": [
              "{'id': 'run_nOrDOiMm3Zo3scmcrQNakeiz',\n",
              " 'assistant_id': 'asst_atGhgUu6Ui8pvHKfio2gxEJo',\n",
              " 'cancelled_at': None,\n",
              " 'completed_at': 1701799954,\n",
              " 'created_at': 1701799949,\n",
              " 'expires_at': None,\n",
              " 'failed_at': None,\n",
              " 'file_ids': [],\n",
              " 'instructions': 'You are a personal math tutor. Answer questions briefly, in a sentence or less.',\n",
              " 'last_error': None,\n",
              " 'metadata': {},\n",
              " 'model': 'gpt-4-1106-preview',\n",
              " 'object': 'thread.run',\n",
              " 'required_action': None,\n",
              " 'started_at': 1701799949,\n",
              " 'status': 'completed',\n",
              " 'thread_id': 'thread_EWSRFOc9N42lQ7wZvnGu69TL',\n",
              " 'tools': []}"
            ]
          },
          "metadata": {}
        }
      ]
    },
    {
      "cell_type": "code",
      "source": [
        "messages = client.beta.threads.messages.list(thread_id=thread.id)\n",
        "show_json(messages)"
      ],
      "metadata": {
        "colab": {
          "base_uri": "https://localhost:8080/",
          "height": 535
        },
        "id": "Z8UCEebrLyFf",
        "outputId": "0fe7bdda-b7b3-42b1-91fc-52aeeea010b3"
      },
      "execution_count": null,
      "outputs": [
        {
          "output_type": "display_data",
          "data": {
            "text/plain": [
              "{'data': [{'id': 'msg_oSZzu2UDR90lSLNmNxYYQZX7',\n",
              "   'assistant_id': 'asst_atGhgUu6Ui8pvHKfio2gxEJo',\n",
              "   'content': [{'text': {'annotations': [],\n",
              "      'value': 'Sure, to solve the equation `3x + 11 = 14`, first subtract 11 from both sides to get `3x = 3`, then divide both sides by 3 to find `x = 1`.'},\n",
              "     'type': 'text'}],\n",
              "   'created_at': 1701799951,\n",
              "   'file_ids': [],\n",
              "   'metadata': {},\n",
              "   'object': 'thread.message',\n",
              "   'role': 'assistant',\n",
              "   'run_id': 'run_nOrDOiMm3Zo3scmcrQNakeiz',\n",
              "   'thread_id': 'thread_EWSRFOc9N42lQ7wZvnGu69TL'},\n",
              "  {'id': 'msg_xrOaRcTWL0rRqwDc8bEtaKkG',\n",
              "   'assistant_id': None,\n",
              "   'content': [{'text': {'annotations': [],\n",
              "      'value': 'I need to solve the equation `3x + 11 = 14`. Can you help me?'},\n",
              "     'type': 'text'}],\n",
              "   'created_at': 1701799929,\n",
              "   'file_ids': [],\n",
              "   'metadata': {},\n",
              "   'object': 'thread.message',\n",
              "   'role': 'user',\n",
              "   'run_id': None,\n",
              "   'thread_id': 'thread_EWSRFOc9N42lQ7wZvnGu69TL'}],\n",
              " 'object': 'list',\n",
              " 'first_id': 'msg_oSZzu2UDR90lSLNmNxYYQZX7',\n",
              " 'last_id': 'msg_xrOaRcTWL0rRqwDc8bEtaKkG',\n",
              " 'has_more': False}"
            ]
          },
          "metadata": {}
        }
      ]
    },
    {
      "cell_type": "code",
      "source": [
        "# Create a message to append to our thread\n",
        "message = client.beta.threads.messages.create(\n",
        "    thread_id=thread.id, role=\"user\", content=\"Could you explain this to me?\"\n",
        ")\n",
        "\n",
        "# Execute our run\n",
        "run = client.beta.threads.runs.create(\n",
        "    thread_id=thread.id,\n",
        "    assistant_id=assistant.id,\n",
        ")\n",
        "\n",
        "# Wait for completion\n",
        "wait_on_run(run, thread)\n",
        "\n",
        "# Retrieve all the messages added after our last user message\n",
        "messages = client.beta.threads.messages.list(\n",
        "    thread_id=thread.id, order=\"asc\", after=message.id\n",
        ")\n",
        "show_json(messages)"
      ],
      "metadata": {
        "colab": {
          "base_uri": "https://localhost:8080/",
          "height": 338
        },
        "id": "vcjMf83wL-tv",
        "outputId": "84b60b01-76e7-4faf-af70-1f4bc3496419"
      },
      "execution_count": null,
      "outputs": [
        {
          "output_type": "display_data",
          "data": {
            "text/plain": [
              "{'data': [{'id': 'msg_jIrJSoQCLo3tdhb1abG7mZB2',\n",
              "   'assistant_id': 'asst_atGhgUu6Ui8pvHKfio2gxEJo',\n",
              "   'content': [{'text': {'annotations': [],\n",
              "      'value': 'Certainly! To solve for x, you need to isolate it on one side of the equation. First, subtract 11 from both sides to get rid of the constant term on the side with x:\\n\\n3x + 11 - 11 = 14 - 11\\nThis simplifies to:\\n3x = 3\\n\\nNow divide both sides by 3 to solve for x:\\n3x / 3 = 3 / 3\\nWhich simplifies to:\\nx = 1\\n\\nSo the solution is x = 1.'},\n",
              "     'type': 'text'}],\n",
              "   'created_at': 1701800053,\n",
              "   'file_ids': [],\n",
              "   'metadata': {},\n",
              "   'object': 'thread.message',\n",
              "   'role': 'assistant',\n",
              "   'run_id': 'run_xBXTVKr2AgYe0UGHuretBtk7',\n",
              "   'thread_id': 'thread_EWSRFOc9N42lQ7wZvnGu69TL'}],\n",
              " 'object': 'list',\n",
              " 'first_id': 'msg_jIrJSoQCLo3tdhb1abG7mZB2',\n",
              " 'last_id': 'msg_jIrJSoQCLo3tdhb1abG7mZB2',\n",
              " 'has_more': False}"
            ]
          },
          "metadata": {}
        }
      ]
    },
    {
      "cell_type": "code",
      "source": [
        "function_json = {\n",
        "    \"name\": \"display_quiz\",\n",
        "    \"description\": \"Displays a quiz to the student, and returns the student's response. A single quiz can have multiple questions.\",\n",
        "    \"parameters\": {\n",
        "        \"type\": \"object\",\n",
        "        \"properties\": {\n",
        "            \"title\": {\"type\": \"string\"},\n",
        "            \"questions\": {\n",
        "                \"type\": \"array\",\n",
        "                \"description\": \"An array of questions, each with a title and potentially options (if multiple choice).\",\n",
        "                \"items\": {\n",
        "                    \"type\": \"object\",\n",
        "                    \"properties\": {\n",
        "                        \"question_text\": {\"type\": \"string\"},\n",
        "                        \"question_type\": {\n",
        "                            \"type\": \"string\",\n",
        "                            \"enum\": [\"MULTIPLE_CHOICE\", \"FREE_RESPONSE\"],\n",
        "                        },\n",
        "                        \"choices\": {\"type\": \"array\", \"items\": {\"type\": \"string\"}},\n",
        "                    },\n",
        "                    \"required\": [\"question_text\"],\n",
        "                },\n",
        "            },\n",
        "        },\n",
        "        \"required\": [\"title\", \"questions\"],\n",
        "    },\n",
        "}"
      ],
      "metadata": {
        "id": "Z3BMxuuWQZww"
      },
      "execution_count": null,
      "outputs": []
    },
    {
      "cell_type": "code",
      "source": [
        "assistant = client.beta.assistants.update(\n",
        "    assistant.id,\n",
        "    tools=[\n",
        "        {\"type\": \"code_interpreter\"},\n",
        "        {\"type\": \"retrieval\"},\n",
        "        {\"type\": \"function\", \"function\": function_json},\n",
        "    ],\n",
        ")\n",
        "show_json(assistant)"
      ],
      "metadata": {
        "colab": {
          "base_uri": "https://localhost:8080/",
          "height": 463
        },
        "id": "3MQc7cBJQKSc",
        "outputId": "8e618675-8a0c-41dc-b900-11c79b6cb3d0"
      },
      "execution_count": null,
      "outputs": [
        {
          "output_type": "display_data",
          "data": {
            "text/plain": [
              "{'id': 'asst_atGhgUu6Ui8pvHKfio2gxEJo',\n",
              " 'created_at': 1701799873,\n",
              " 'description': None,\n",
              " 'file_ids': [],\n",
              " 'instructions': 'You are a personal math tutor. Answer questions briefly, in a sentence or less.',\n",
              " 'metadata': {},\n",
              " 'model': 'gpt-4-1106-preview',\n",
              " 'name': 'Math Tutor',\n",
              " 'object': 'assistant',\n",
              " 'tools': [{'type': 'code_interpreter'},\n",
              "  {'type': 'retrieval'},\n",
              "  {'function': {'name': 'display_quiz',\n",
              "    'parameters': {'type': 'object',\n",
              "     'properties': {'title': {'type': 'string'},\n",
              "      'questions': {'type': 'array',\n",
              "       'description': 'An array of questions, each with a title and potentially options (if multiple choice).',\n",
              "       'items': {'type': 'object',\n",
              "        'properties': {'question_text': {'type': 'string'},\n",
              "         'question_type': {'type': 'string',\n",
              "          'enum': ['MULTIPLE_CHOICE', 'FREE_RESPONSE']},\n",
              "         'choices': {'type': 'array', 'items': {'type': 'string'}}},\n",
              "        'required': ['question_text']}}},\n",
              "     'required': ['title', 'questions']},\n",
              "    'description': \"Displays a quiz to the student, and returns the student's response. A single quiz can have multiple questions.\"},\n",
              "   'type': 'function'}]}"
            ]
          },
          "metadata": {}
        }
      ]
    },
    {
      "cell_type": "code",
      "source": [
        "from openai import OpenAI\n",
        "import openai  # for OpenAI API calls\n",
        "import time  # for measuring time duration of API calls\n",
        "\n",
        "#from openai import OpenAI\n",
        "from google.colab import userdata\n",
        "\n",
        "userdata.get('OPENAI_API_KEY')\n",
        "openai.api_key = userdata.get('OPENAI_API_KEY')\n",
        "\n",
        "client = OpenAI(\n",
        "    # defaults to os.environ.get(\"OPENAI_API_KEY\")\n",
        "    api_key=openai.api_key,\n",
        ")\n",
        "MATH_ASSISTANT_ID = assistant.id  # or a hard-coded ID like \"asst-...\"\n",
        "\n",
        "\n",
        "def submit_message(assistant_id, thread, user_message):\n",
        "    client.beta.threads.messages.create(\n",
        "        thread_id=thread.id, role=\"user\", content=user_message\n",
        "    )\n",
        "    return client.beta.threads.runs.create(\n",
        "        thread_id=thread.id,\n",
        "        assistant_id=assistant_id,\n",
        "    )\n",
        "\n",
        "\n",
        "def get_response(thread):\n",
        "    return client.beta.threads.messages.list(thread_id=thread.id, order=\"asc\")"
      ],
      "metadata": {
        "id": "XsBZZbK1TpUu"
      },
      "execution_count": null,
      "outputs": []
    },
    {
      "cell_type": "code",
      "source": [
        "def create_thread_and_run(user_input):\n",
        "    thread = client.beta.threads.create()\n",
        "    run = submit_message(MATH_ASSISTANT_ID, thread, user_input)\n",
        "    return thread, run\n",
        "\n",
        "\n",
        "# Emulating concurrent user requests\n",
        "thread1, run1 = create_thread_and_run(\n",
        "    \"I need to solve the equation `3x + 11 = 14`. Can you help me?\"\n",
        ")\n",
        "thread2, run2 = create_thread_and_run(\"Could you explain linear algebra to me?\")\n",
        "thread3, run3 = create_thread_and_run(\"I don't like math. What can I do?\")\n",
        "\n",
        "# Now all Runs are executing..."
      ],
      "metadata": {
        "id": "0spq5h8PTRX0"
      },
      "execution_count": null,
      "outputs": []
    },
    {
      "cell_type": "code",
      "source": [
        "thread, run = create_thread_and_run(\n",
        "    \"Make a quiz with 2 questions: One open ended, one multiple choice. Then, give me feedback for the responses.\"\n",
        ")\n",
        "run = wait_on_run(run, thread)\n",
        "run.status"
      ],
      "metadata": {
        "colab": {
          "base_uri": "https://localhost:8080/",
          "height": 35
        },
        "id": "b-2qsV2kQTan",
        "outputId": "a13669a4-fced-421d-a963-53752ccf6f35"
      },
      "execution_count": null,
      "outputs": [
        {
          "output_type": "execute_result",
          "data": {
            "text/plain": [
              "'requires_action'"
            ],
            "application/vnd.google.colaboratory.intrinsic+json": {
              "type": "string"
            }
          },
          "metadata": {},
          "execution_count": 27
        }
      ]
    },
    {
      "cell_type": "code",
      "source": [
        "show_json(run)"
      ],
      "metadata": {
        "colab": {
          "base_uri": "https://localhost:8080/",
          "height": 714
        },
        "id": "_h8rbAExUCgX",
        "outputId": "9fbf2d39-73ba-4fea-dbc2-ff6657ff0e65"
      },
      "execution_count": null,
      "outputs": [
        {
          "output_type": "display_data",
          "data": {
            "text/plain": [
              "{'id': 'run_TyR6jsSOpdC5SZ427rootZ1D',\n",
              " 'assistant_id': 'asst_atGhgUu6Ui8pvHKfio2gxEJo',\n",
              " 'cancelled_at': None,\n",
              " 'completed_at': None,\n",
              " 'created_at': 1701802134,\n",
              " 'expires_at': 1701802734,\n",
              " 'failed_at': None,\n",
              " 'file_ids': [],\n",
              " 'instructions': 'You are a personal math tutor. Answer questions briefly, in a sentence or less.',\n",
              " 'last_error': None,\n",
              " 'metadata': {},\n",
              " 'model': 'gpt-4-1106-preview',\n",
              " 'object': 'thread.run',\n",
              " 'required_action': {'submit_tool_outputs': {'tool_calls': [{'id': 'call_U56ynaVrGV7KhFGSgHsMK6yc',\n",
              "     'function': {'arguments': '{\\n  \"title\": \"Math Concepts Quiz\",\\n  \"questions\": [\\n    {\\n      \"question_text\": \"Explain in your own words what a prime number is.\",\\n      \"question_type\": \"FREE_RESPONSE\"\\n    },\\n    {\\n      \"question_text\": \"Which of the following numbers is a prime number?\",\\n      \"question_type\": \"MULTIPLE_CHOICE\",\\n      \"choices\": [\"15\", \"48\", \"79\", \"100\"]\\n    }\\n  ]\\n}',\n",
              "      'name': 'display_quiz'},\n",
              "     'type': 'function'}]},\n",
              "  'type': 'submit_tool_outputs'},\n",
              " 'started_at': 1701802134,\n",
              " 'status': 'requires_action',\n",
              " 'thread_id': 'thread_TxVlxQeUZd5Qbp4QuROQudTh',\n",
              " 'tools': [{'type': 'code_interpreter'},\n",
              "  {'type': 'retrieval'},\n",
              "  {'function': {'name': 'display_quiz',\n",
              "    'parameters': {'type': 'object',\n",
              "     'properties': {'title': {'type': 'string'},\n",
              "      'questions': {'type': 'array',\n",
              "       'description': 'An array of questions, each with a title and potentially options (if multiple choice).',\n",
              "       'items': {'type': 'object',\n",
              "        'properties': {'question_text': {'type': 'string'},\n",
              "         'question_type': {'type': 'string',\n",
              "          'enum': ['MULTIPLE_CHOICE', 'FREE_RESPONSE']},\n",
              "         'choices': {'type': 'array', 'items': {'type': 'string'}}},\n",
              "        'required': ['question_text']}}},\n",
              "     'required': ['title', 'questions']},\n",
              "    'description': \"Displays a quiz to the student, and returns the student's response. A single quiz can have multiple questions.\"},\n",
              "   'type': 'function'}]}"
            ]
          },
          "metadata": {}
        }
      ]
    },
    {
      "cell_type": "code",
      "source": [
        "# Extract single tool call\n",
        "tool_call = run.required_action.submit_tool_outputs.tool_calls[0]\n",
        "name = tool_call.function.name\n",
        "arguments = json.loads(tool_call.function.arguments)\n",
        "\n",
        "print(\"Function Name:\", name)\n",
        "print(\"Function Arguments:\")\n",
        "arguments"
      ],
      "metadata": {
        "colab": {
          "base_uri": "https://localhost:8080/"
        },
        "id": "Z7iv0xihUX6Z",
        "outputId": "daa90c48-5183-433c-f587-316d99508d70"
      },
      "execution_count": null,
      "outputs": [
        {
          "output_type": "stream",
          "name": "stdout",
          "text": [
            "Function Name: display_quiz\n",
            "Function Arguments:\n"
          ]
        },
        {
          "output_type": "execute_result",
          "data": {
            "text/plain": [
              "{'title': 'Math Concepts Quiz',\n",
              " 'questions': [{'question_text': 'Explain in your own words what a prime number is.',\n",
              "   'question_type': 'FREE_RESPONSE'},\n",
              "  {'question_text': 'Which of the following numbers is a prime number?',\n",
              "   'question_type': 'MULTIPLE_CHOICE',\n",
              "   'choices': ['15', '48', '79', '100']}]}"
            ]
          },
          "metadata": {},
          "execution_count": 29
        }
      ]
    },
    {
      "cell_type": "code",
      "source": [
        "def get_mock_response_from_user_multiple_choice():\n",
        "    return \"a\"\n",
        "\n",
        "\n",
        "def get_mock_response_from_user_free_response():\n",
        "    return \"I don't know.\"\n",
        "\n",
        "\n",
        "def display_quiz(title, questions):\n",
        "    print(\"Quiz:\", title)\n",
        "    print()\n",
        "    responses = []\n",
        "\n",
        "    for q in questions:\n",
        "        print(q[\"question_text\"])\n",
        "        response = \"\"\n",
        "\n",
        "        # If multiple choice, print options\n",
        "        if q[\"question_type\"] == \"MULTIPLE_CHOICE\":\n",
        "            for i, choice in enumerate(q[\"choices\"]):\n",
        "                print(f\"{i}. {choice}\")\n",
        "            response = get_mock_response_from_user_multiple_choice()\n",
        "\n",
        "        # Otherwise, just get response\n",
        "        elif q[\"question_type\"] == \"FREE_RESPONSE\":\n",
        "            response = get_mock_response_from_user_free_response()\n",
        "\n",
        "        responses.append(response)\n",
        "        print()\n",
        "\n",
        "    return responses"
      ],
      "metadata": {
        "id": "ssZXbTC2UmAn"
      },
      "execution_count": null,
      "outputs": []
    },
    {
      "cell_type": "code",
      "source": [
        "responses = display_quiz(arguments[\"title\"], arguments[\"questions\"])\n",
        "print(\"Responses:\", responses)"
      ],
      "metadata": {
        "colab": {
          "base_uri": "https://localhost:8080/"
        },
        "id": "yt-X8vxgUeM5",
        "outputId": "938af7d4-80d7-41c7-f00c-d11ca12adbbc"
      },
      "execution_count": null,
      "outputs": [
        {
          "output_type": "stream",
          "name": "stdout",
          "text": [
            "Quiz: Math Concepts Quiz\n",
            "\n",
            "Explain in your own words what a prime number is.\n",
            "\n",
            "Which of the following numbers is a prime number?\n",
            "0. 15\n",
            "1. 48\n",
            "2. 79\n",
            "3. 100\n",
            "\n",
            "Responses: [\"I don't know.\", 'a']\n"
          ]
        }
      ]
    },
    {
      "cell_type": "code",
      "source": [
        "function_json = {\n",
        "    \"name\": \"display_quiz\",\n",
        "    \"description\": \"Displays a quiz to the student, and returns the student's response. A single quiz can have multiple questions.\",\n",
        "    \"parameters\": {\n",
        "        \"type\": \"object\",\n",
        "        \"properties\": {\n",
        "            \"title\": {\"type\": \"string\"},\n",
        "            \"questions\": {\n",
        "                \"type\": \"array\",\n",
        "                \"description\": \"An array of questions, each with a title and potentially options (if multiple choice).\",\n",
        "                \"items\": {\n",
        "                    \"type\": \"object\",\n",
        "                    \"properties\": {\n",
        "                        \"question_text\": {\"type\": \"string\"},\n",
        "                        \"question_type\": {\n",
        "                            \"type\": \"string\",\n",
        "                            \"enum\": [\"MULTIPLE_CHOICE\", \"FREE_RESPONSE\"],\n",
        "                        },\n",
        "                        \"choices\": {\"type\": \"array\", \"items\": {\"type\": \"string\"}},\n",
        "                    },\n",
        "                    \"required\": [\"question_text\"],\n",
        "                },\n",
        "            },\n",
        "        },\n",
        "        \"required\": [\"title\", \"questions\"],\n",
        "    },\n",
        "}"
      ],
      "metadata": {
        "id": "9dlXnuXIUv2f"
      },
      "execution_count": null,
      "outputs": []
    },
    {
      "cell_type": "code",
      "source": [
        "assistant = client.beta.assistants.update(\n",
        "    MATH_ASSISTANT_ID,\n",
        "    tools=[\n",
        "        {\"type\": \"code_interpreter\"},\n",
        "        {\"type\": \"retrieval\"},\n",
        "        {\"type\": \"function\", \"function\": function_json},\n",
        "    ],\n",
        ")\n",
        "show_json(assistant)"
      ],
      "metadata": {
        "colab": {
          "base_uri": "https://localhost:8080/",
          "height": 463
        },
        "id": "4BvcszIeU1i3",
        "outputId": "e02eab4c-6011-4862-8ef3-59f2aa50b6a0"
      },
      "execution_count": null,
      "outputs": [
        {
          "output_type": "display_data",
          "data": {
            "text/plain": [
              "{'id': 'asst_atGhgUu6Ui8pvHKfio2gxEJo',\n",
              " 'created_at': 1701799873,\n",
              " 'description': None,\n",
              " 'file_ids': [],\n",
              " 'instructions': 'You are a personal math tutor. Answer questions briefly, in a sentence or less.',\n",
              " 'metadata': {},\n",
              " 'model': 'gpt-4-1106-preview',\n",
              " 'name': 'Math Tutor',\n",
              " 'object': 'assistant',\n",
              " 'tools': [{'type': 'code_interpreter'},\n",
              "  {'type': 'retrieval'},\n",
              "  {'function': {'name': 'display_quiz',\n",
              "    'parameters': {'type': 'object',\n",
              "     'properties': {'title': {'type': 'string'},\n",
              "      'questions': {'type': 'array',\n",
              "       'description': 'An array of questions, each with a title and potentially options (if multiple choice).',\n",
              "       'items': {'type': 'object',\n",
              "        'properties': {'question_text': {'type': 'string'},\n",
              "         'question_type': {'type': 'string',\n",
              "          'enum': ['MULTIPLE_CHOICE', 'FREE_RESPONSE']},\n",
              "         'choices': {'type': 'array', 'items': {'type': 'string'}}},\n",
              "        'required': ['question_text']}}},\n",
              "     'required': ['title', 'questions']},\n",
              "    'description': \"Displays a quiz to the student, and returns the student's response. A single quiz can have multiple questions.\"},\n",
              "   'type': 'function'}]}"
            ]
          },
          "metadata": {}
        }
      ]
    },
    {
      "cell_type": "code",
      "source": [
        "thread, run = create_thread_and_run(\n",
        "    \"Make a quiz with 2 questions: One open ended, one multiple choice. Then, give me feedback for the responses.\"\n",
        ")\n",
        "run = wait_on_run(run, thread)\n",
        "run.status"
      ],
      "metadata": {
        "colab": {
          "base_uri": "https://localhost:8080/",
          "height": 35
        },
        "id": "2gBUFj6LU7HC",
        "outputId": "5694567a-dfee-4c91-e2a8-0b06f7b4f900"
      },
      "execution_count": null,
      "outputs": [
        {
          "output_type": "execute_result",
          "data": {
            "text/plain": [
              "'requires_action'"
            ],
            "application/vnd.google.colaboratory.intrinsic+json": {
              "type": "string"
            }
          },
          "metadata": {},
          "execution_count": 35
        }
      ]
    },
    {
      "cell_type": "code",
      "source": [
        "show_json(run)"
      ],
      "metadata": {
        "colab": {
          "base_uri": "https://localhost:8080/",
          "height": 714
        },
        "id": "GT0vOWfHU_E_",
        "outputId": "d22844b3-50f4-417b-cbe8-ed93e193caf4"
      },
      "execution_count": null,
      "outputs": [
        {
          "output_type": "display_data",
          "data": {
            "text/plain": [
              "{'id': 'run_mtKWrskHIA8QsdsjaLFBuDo0',\n",
              " 'assistant_id': 'asst_atGhgUu6Ui8pvHKfio2gxEJo',\n",
              " 'cancelled_at': None,\n",
              " 'completed_at': None,\n",
              " 'created_at': 1701802395,\n",
              " 'expires_at': 1701802995,\n",
              " 'failed_at': None,\n",
              " 'file_ids': [],\n",
              " 'instructions': 'You are a personal math tutor. Answer questions briefly, in a sentence or less.',\n",
              " 'last_error': None,\n",
              " 'metadata': {},\n",
              " 'model': 'gpt-4-1106-preview',\n",
              " 'object': 'thread.run',\n",
              " 'required_action': {'submit_tool_outputs': {'tool_calls': [{'id': 'call_1d4fJXMwjPMcLsa3w19LUhDW',\n",
              "     'function': {'arguments': '{\\n  \"title\": \"Math Concepts Quiz\",\\n  \"questions\": [\\n    {\\n      \"question_text\": \"Describe what a prime number is.\",\\n      \"question_type\": \"FREE_RESPONSE\"\\n    },\\n    {\\n      \"question_text\": \"What is the smallest prime number?\",\\n      \"question_type\": \"MULTIPLE_CHOICE\",\\n      \"choices\": [\"0\", \"1\", \"2\", \"3\"]\\n    }\\n  ]\\n}',\n",
              "      'name': 'display_quiz'},\n",
              "     'type': 'function'}]},\n",
              "  'type': 'submit_tool_outputs'},\n",
              " 'started_at': 1701802396,\n",
              " 'status': 'requires_action',\n",
              " 'thread_id': 'thread_rm4eakTaszT18WEyyANsIowV',\n",
              " 'tools': [{'type': 'code_interpreter'},\n",
              "  {'type': 'retrieval'},\n",
              "  {'function': {'name': 'display_quiz',\n",
              "    'parameters': {'type': 'object',\n",
              "     'properties': {'title': {'type': 'string'},\n",
              "      'questions': {'type': 'array',\n",
              "       'description': 'An array of questions, each with a title and potentially options (if multiple choice).',\n",
              "       'items': {'type': 'object',\n",
              "        'properties': {'question_text': {'type': 'string'},\n",
              "         'question_type': {'type': 'string',\n",
              "          'enum': ['MULTIPLE_CHOICE', 'FREE_RESPONSE']},\n",
              "         'choices': {'type': 'array', 'items': {'type': 'string'}}},\n",
              "        'required': ['question_text']}}},\n",
              "     'required': ['title', 'questions']},\n",
              "    'description': \"Displays a quiz to the student, and returns the student's response. A single quiz can have multiple questions.\"},\n",
              "   'type': 'function'}]}"
            ]
          },
          "metadata": {}
        }
      ]
    },
    {
      "cell_type": "code",
      "source": [
        "responses = display_quiz(arguments[\"title\"], arguments[\"questions\"])\n",
        "print(\"Responses:\", responses)"
      ],
      "metadata": {
        "colab": {
          "base_uri": "https://localhost:8080/"
        },
        "id": "tNwPkE1yVJwz",
        "outputId": "8470a085-b814-46e4-a9e1-ccf8ed42ef1e"
      },
      "execution_count": null,
      "outputs": [
        {
          "output_type": "stream",
          "name": "stdout",
          "text": [
            "Quiz: Math Concepts Quiz\n",
            "\n",
            "Explain in your own words what a prime number is.\n",
            "\n",
            "Which of the following numbers is a prime number?\n",
            "0. 15\n",
            "1. 48\n",
            "2. 79\n",
            "3. 100\n",
            "\n",
            "Responses: [\"I don't know.\", 'a']\n"
          ]
        }
      ]
    },
    {
      "cell_type": "code",
      "source": [
        "# Extract single tool call\n",
        "tool_call = run.required_action.submit_tool_outputs.tool_calls[0]\n",
        "name = tool_call.function.name\n",
        "arguments = json.loads(tool_call.function.arguments)\n",
        "\n",
        "print(\"Function Name:\", name)\n",
        "print(\"Function Arguments:\")\n",
        "arguments"
      ],
      "metadata": {
        "colab": {
          "base_uri": "https://localhost:8080/"
        },
        "id": "7P1YgZbqV1LO",
        "outputId": "7179a66d-54fd-40d1-9cfd-bf612a3e1c1e"
      },
      "execution_count": null,
      "outputs": [
        {
          "output_type": "stream",
          "name": "stdout",
          "text": [
            "Function Name: display_quiz\n",
            "Function Arguments:\n"
          ]
        },
        {
          "output_type": "execute_result",
          "data": {
            "text/plain": [
              "{'title': 'Math Concepts Quiz',\n",
              " 'questions': [{'question_text': 'Describe what a prime number is.',\n",
              "   'question_type': 'FREE_RESPONSE'},\n",
              "  {'question_text': 'What is the smallest prime number?',\n",
              "   'question_type': 'MULTIPLE_CHOICE',\n",
              "   'choices': ['0', '1', '2', '3']}]}"
            ]
          },
          "metadata": {},
          "execution_count": 40
        }
      ]
    },
    {
      "cell_type": "code",
      "source": [
        "responses = display_quiz(arguments[\"title\"], arguments[\"questions\"])\n",
        "print(\"Responses:\", responses)"
      ],
      "metadata": {
        "colab": {
          "base_uri": "https://localhost:8080/"
        },
        "id": "pmYXBTt1V64q",
        "outputId": "4fabca41-b365-4364-81bd-0aa9072b36a4"
      },
      "execution_count": null,
      "outputs": [
        {
          "output_type": "stream",
          "name": "stdout",
          "text": [
            "Quiz: Math Concepts Quiz\n",
            "\n",
            "Describe what a prime number is.\n",
            "\n",
            "What is the smallest prime number?\n",
            "0. 0\n",
            "1. 1\n",
            "2. 2\n",
            "3. 3\n",
            "\n",
            "Responses: [\"I don't know.\", 'a']\n"
          ]
        }
      ]
    },
    {
      "cell_type": "code",
      "source": [
        "run = client.beta.threads.runs.submit_tool_outputs(\n",
        "    thread_id=thread.id,\n",
        "    run_id=run.id,\n",
        "    tool_outputs=[\n",
        "        {\n",
        "            \"tool_call_id\": tool_call.id,\n",
        "            \"output\": json.dumps(responses),\n",
        "        }\n",
        "    ],\n",
        ")\n",
        "show_json(run)"
      ],
      "metadata": {
        "colab": {
          "base_uri": "https://localhost:8080/",
          "height": 606
        },
        "id": "YSPheBTbV_ns",
        "outputId": "d11589f1-998a-450c-e235-d2349fab7695"
      },
      "execution_count": null,
      "outputs": [
        {
          "output_type": "display_data",
          "data": {
            "text/plain": [
              "{'id': 'run_mtKWrskHIA8QsdsjaLFBuDo0',\n",
              " 'assistant_id': 'asst_atGhgUu6Ui8pvHKfio2gxEJo',\n",
              " 'cancelled_at': None,\n",
              " 'completed_at': None,\n",
              " 'created_at': 1701802395,\n",
              " 'expires_at': 1701802995,\n",
              " 'failed_at': None,\n",
              " 'file_ids': [],\n",
              " 'instructions': 'You are a personal math tutor. Answer questions briefly, in a sentence or less.',\n",
              " 'last_error': None,\n",
              " 'metadata': {},\n",
              " 'model': 'gpt-4-1106-preview',\n",
              " 'object': 'thread.run',\n",
              " 'required_action': None,\n",
              " 'started_at': 1701802396,\n",
              " 'status': 'queued',\n",
              " 'thread_id': 'thread_rm4eakTaszT18WEyyANsIowV',\n",
              " 'tools': [{'type': 'code_interpreter'},\n",
              "  {'type': 'retrieval'},\n",
              "  {'function': {'name': 'display_quiz',\n",
              "    'parameters': {'type': 'object',\n",
              "     'properties': {'title': {'type': 'string'},\n",
              "      'questions': {'type': 'array',\n",
              "       'description': 'An array of questions, each with a title and potentially options (if multiple choice).',\n",
              "       'items': {'type': 'object',\n",
              "        'properties': {'question_text': {'type': 'string'},\n",
              "         'question_type': {'type': 'string',\n",
              "          'enum': ['MULTIPLE_CHOICE', 'FREE_RESPONSE']},\n",
              "         'choices': {'type': 'array', 'items': {'type': 'string'}}},\n",
              "        'required': ['question_text']}}},\n",
              "     'required': ['title', 'questions']},\n",
              "    'description': \"Displays a quiz to the student, and returns the student's response. A single quiz can have multiple questions.\"},\n",
              "   'type': 'function'}]}"
            ]
          },
          "metadata": {}
        }
      ]
    },
    {
      "cell_type": "code",
      "source": [
        "import time\n",
        "\n",
        "# Pretty printing helper\n",
        "def pretty_print(messages):\n",
        "    print(\"# Messages\")\n",
        "    for m in messages:\n",
        "        print(f\"{m.role}: {m.content[0].text.value}\")\n",
        "    print()\n",
        "\n",
        "\n",
        "# Waiting in a loop\n",
        "def wait_on_run(run, thread):\n",
        "    while run.status == \"queued\" or run.status == \"in_progress\":\n",
        "        run = client.beta.threads.runs.retrieve(\n",
        "            thread_id=thread.id,\n",
        "            run_id=run.id,\n",
        "        )\n",
        "        time.sleep(0.5)\n",
        "    return run\n",
        "\n",
        "\n",
        "# Wait for Run 1\n",
        "run1 = wait_on_run(run1, thread1)\n",
        "pretty_print(get_response(thread1))\n",
        "\n",
        "# Wait for Run 2\n",
        "run2 = wait_on_run(run2, thread2)\n",
        "pretty_print(get_response(thread2))\n",
        "\n",
        "# Wait for Run 3\n",
        "run3 = wait_on_run(run3, thread3)\n",
        "pretty_print(get_response(thread3))\n",
        "\n",
        "# Thank our assistant on Thread 3 :)\n",
        "run4 = submit_message(MATH_ASSISTANT_ID, thread3, \"Thank you!\")\n",
        "run4 = wait_on_run(run4, thread3)\n",
        "pretty_print(get_response(thread3))"
      ],
      "metadata": {
        "colab": {
          "base_uri": "https://localhost:8080/"
        },
        "id": "jT2DngErWJwk",
        "outputId": "44d873cf-d310-4492-a1a6-fa9af69a49ce"
      },
      "execution_count": null,
      "outputs": [
        {
          "output_type": "stream",
          "name": "stdout",
          "text": [
            "# Messages\n",
            "user: I need to solve the equation `3x + 11 = 14`. Can you help me?\n",
            "assistant: The solution to the equation \\(3x + 11 = 14\\) is \\(x = 1\\).\n",
            "\n",
            "# Messages\n",
            "user: Could you explain linear algebra to me?\n",
            "assistant: Linear algebra is a branch of mathematics focusing on the study of vectors, vector spaces (also known as linear spaces), linear transformations (functions that preserve vector addition and scalar multiplication), and systems of linear equations. Fundamental concepts in linear algebra include:\n",
            "\n",
            "- **Vectors:** Quantities with both magnitude and direction, represented by coordinates that define their position in space relative to an origin.\n",
            "- **Vector Spaces:** Collections of vectors that can be scaled and added together, following certain mathematical rules (axioms).\n",
            "- **Matrices:** Rectangular arrays of numbers (or functions) that can represent linear transformations, systems of linear equations, or coefficients that relate vectors.\n",
            "- **Linear Transformations:** Functions between vector spaces that preserve the operations of vector addition and scalar multiplication.\n",
            "- **Systems of Linear Equations:** Collections of equations that can be represented in matrix form, often solved using methods like Gaussian elimination or matrix inversion.\n",
            "- **Eigenvalues and Eigenvectors:** Special numbers and corresponding vectors associated with a square matrix that characterize its fundamental properties and behavior.\n",
            "\n",
            "Linear algebra is essential in various fields, including computer science, physics, engineering, and economics, due to its ability to succinctly model complex relationships and its computational efficiency.\n",
            "\n",
            "# Messages\n",
            "user: I don't like math. What can I do?\n",
            "assistant: Disliking math can often be due to a lack of understanding, negative experiences, or not seeing its relevance. Here are a few strategies that might help you:\n",
            "\n",
            "1. Identify the specific aspects of math that you find difficult or unenjoyable.\n",
            "2. Seek help from a tutor or teacher to address those difficulties.\n",
            "3. Try to relate math to your interests or real-world applications.\n",
            "4. Practice regularly to improve your skills and confidence.\n",
            "5. Maintain a growth mindset, believing that you can improve with effort.\n",
            "\n",
            "If you're open to it, we can work together on some math concepts to help build your confidence.\n",
            "\n",
            "# Messages\n",
            "user: I don't like math. What can I do?\n",
            "assistant: Disliking math can often be due to a lack of understanding, negative experiences, or not seeing its relevance. Here are a few strategies that might help you:\n",
            "\n",
            "1. Identify the specific aspects of math that you find difficult or unenjoyable.\n",
            "2. Seek help from a tutor or teacher to address those difficulties.\n",
            "3. Try to relate math to your interests or real-world applications.\n",
            "4. Practice regularly to improve your skills and confidence.\n",
            "5. Maintain a growth mindset, believing that you can improve with effort.\n",
            "\n",
            "If you're open to it, we can work together on some math concepts to help build your confidence.\n",
            "user: Thank you!\n",
            "assistant: You're welcome! If you ever have any questions or need assistance with math or any other topic, feel free to reach out. Happy learning!\n",
            "\n"
          ]
        }
      ]
    },
    {
      "cell_type": "code",
      "source": [
        "run = wait_on_run(run, thread)\n",
        "pretty_print(get_response(thread))"
      ],
      "metadata": {
        "colab": {
          "base_uri": "https://localhost:8080/"
        },
        "id": "g10tTxkGWC4L",
        "outputId": "df36f013-2ae9-47aa-e950-dcdde3d3335c"
      },
      "execution_count": null,
      "outputs": [
        {
          "output_type": "stream",
          "name": "stdout",
          "text": [
            "# Messages\n",
            "user: Make a quiz with 2 questions: One open ended, one multiple choice. Then, give me feedback for the responses.\n",
            "assistant: Thank you for your responses. Here is the feedback:\n",
            "\n",
            "1. A prime number is a natural number greater than 1 that has no positive divisors other than 1 and itself. For instance, 2, 3, 5, and 7 are prime numbers because they can only be divided evenly by 1 and by themselves.\n",
            "\n",
            "2. The smallest prime number is actually \"2\", which is the only even prime number because it's divisible by 1 and 2 only. The option \"0\" and \"1\" are not prime numbers because prime numbers must be greater than 1, and no number can divide 0 evenly except itself.\n",
            "\n"
          ]
        }
      ]
    }
  ]
}