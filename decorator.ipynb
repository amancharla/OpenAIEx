{
  "nbformat": 4,
  "nbformat_minor": 0,
  "metadata": {
    "colab": {
      "provenance": []
    },
    "kernelspec": {
      "name": "python3",
      "display_name": "Python 3"
    },
    "language_info": {
      "name": "python"
    }
  },
  "cells": [
    {
      "cell_type": "code",
      "execution_count": 1,
      "metadata": {
        "id": "eavzl4fjhnf-"
      },
      "outputs": [],
      "source": [
        "import time\n",
        "\n",
        "def measure_time(func):\n",
        "    def wrapper():\n",
        "        start = time.time()\n",
        "        func()\n",
        "        end = time.time()\n",
        "        print(f\"Execution time: {end - start} seconds\")\n",
        "    return wrapper"
      ]
    },
    {
      "cell_type": "code",
      "source": [
        "def hello():\n",
        "    print(\"Hello, world!\")"
      ],
      "metadata": {
        "id": "u3NmThhwh3vU"
      },
      "execution_count": 3,
      "outputs": []
    },
    {
      "cell_type": "code",
      "source": [
        "hello = measure_time(hello)\n",
        "hello()"
      ],
      "metadata": {
        "colab": {
          "base_uri": "https://localhost:8080/"
        },
        "id": "aJQNJnw6hvQj",
        "outputId": "c89adade-12bd-4ec8-d52a-9459bdd4006f"
      },
      "execution_count": 4,
      "outputs": [
        {
          "output_type": "stream",
          "name": "stdout",
          "text": [
            "Hello, world!\n",
            "Execution time: 0.0001010894775390625 seconds\n"
          ]
        }
      ]
    },
    {
      "cell_type": "code",
      "source": [
        "@measure_time\n",
        "def hello():\n",
        "    print(\"Hello, world!\")\n",
        "\n",
        "hello()"
      ],
      "metadata": {
        "colab": {
          "base_uri": "https://localhost:8080/"
        },
        "id": "Eas78tEgh8sw",
        "outputId": "630fcbb2-d72d-4c83-e9f5-01538959e76a"
      },
      "execution_count": 5,
      "outputs": [
        {
          "output_type": "stream",
          "name": "stdout",
          "text": [
            "Hello, world!\n",
            "Execution time: 6.794929504394531e-05 seconds\n"
          ]
        }
      ]
    },
    {
      "cell_type": "code",
      "source": [
        "import time\n",
        "from functools import wraps\n",
        "\n",
        "def timer(func):\n",
        "    @wraps(func)\n",
        "    def wrapper(*args, **kwargs):\n",
        "        start = time.time()\n",
        "        result = func(*args, **kwargs)\n",
        "        end = time.time()\n",
        "        print(f\"Execution time of {func.__name__}: {end - start} seconds\")\n",
        "        return result\n",
        "    return wrapper"
      ],
      "metadata": {
        "id": "bMVQyKAliUcN"
      },
      "execution_count": 6,
      "outputs": []
    },
    {
      "cell_type": "code",
      "source": [
        "@timer\n",
        "def factorial(n):\n",
        "    \"\"\"Returns the factorial of n\"\"\"\n",
        "    if n == 0 or n == 1:\n",
        "        return 1\n",
        "    else:\n",
        "        return n * factorial(n - 1)\n",
        "\n",
        "@timer\n",
        "def fibonacci(n):\n",
        "    \"\"\"Returns the nth Fibonacci number\"\"\"\n",
        "    if n == 0 or n == 1:\n",
        "        return n\n",
        "    else:\n",
        "        return fibonacci(n - 1) + fibonacci(n - 2)\n",
        "\n",
        "print(factorial(10))\n",
        "print(fibonacci(10))"
      ],
      "metadata": {
        "colab": {
          "base_uri": "https://localhost:8080/"
        },
        "id": "P7leyZj1idRU",
        "outputId": "4acd6f18-2c30-4fb3-95a3-438a8d7a931f"
      },
      "execution_count": 7,
      "outputs": [
        {
          "output_type": "stream",
          "name": "stdout",
          "text": [
            "Execution time of factorial: 4.76837158203125e-07 seconds\n",
            "Execution time of factorial: 0.001478433609008789 seconds\n",
            "Execution time of factorial: 0.0019373893737792969 seconds\n",
            "Execution time of factorial: 0.002384185791015625 seconds\n",
            "Execution time of factorial: 0.0028679370880126953 seconds\n",
            "Execution time of factorial: 0.0032820701599121094 seconds\n",
            "Execution time of factorial: 0.004484891891479492 seconds\n",
            "Execution time of factorial: 0.0050165653228759766 seconds\n",
            "Execution time of factorial: 0.005049943923950195 seconds\n",
            "Execution time of factorial: 0.005068540573120117 seconds\n",
            "3628800\n",
            "Execution time of fibonacci: 9.5367431640625e-07 seconds\n",
            "Execution time of fibonacci: 4.76837158203125e-07 seconds\n",
            "Execution time of fibonacci: 6.318092346191406e-05 seconds\n",
            "Execution time of fibonacci: 7.152557373046875e-07 seconds\n",
            "Execution time of fibonacci: 0.00011658668518066406 seconds\n",
            "Execution time of fibonacci: 7.152557373046875e-07 seconds\n",
            "Execution time of fibonacci: 4.76837158203125e-07 seconds\n",
            "Execution time of fibonacci: 3.647804260253906e-05 seconds\n",
            "Execution time of fibonacci: 0.0001857280731201172 seconds\n",
            "Execution time of fibonacci: 4.76837158203125e-07 seconds\n",
            "Execution time of fibonacci: 4.76837158203125e-07 seconds\n",
            "Execution time of fibonacci: 3.5762786865234375e-05 seconds\n",
            "Execution time of fibonacci: 4.76837158203125e-07 seconds\n",
            "Execution time of fibonacci: 8.034706115722656e-05 seconds\n",
            "Execution time of fibonacci: 0.0002987384796142578 seconds\n",
            "Execution time of fibonacci: 4.76837158203125e-07 seconds\n",
            "Execution time of fibonacci: 7.152557373046875e-07 seconds\n",
            "Execution time of fibonacci: 0.008235454559326172 seconds\n",
            "Execution time of fibonacci: 7.152557373046875e-07 seconds\n",
            "Execution time of fibonacci: 0.008279561996459961 seconds\n",
            "Execution time of fibonacci: 9.5367431640625e-07 seconds\n",
            "Execution time of fibonacci: 4.76837158203125e-07 seconds\n",
            "Execution time of fibonacci: 4.553794860839844e-05 seconds\n",
            "Execution time of fibonacci: 0.008367061614990234 seconds\n",
            "Execution time of fibonacci: 0.008738279342651367 seconds\n",
            "Execution time of fibonacci: 4.76837158203125e-07 seconds\n",
            "Execution time of fibonacci: 4.76837158203125e-07 seconds\n",
            "Execution time of fibonacci: 5.054473876953125e-05 seconds\n",
            "Execution time of fibonacci: 7.152557373046875e-07 seconds\n",
            "Execution time of fibonacci: 9.942054748535156e-05 seconds\n",
            "Execution time of fibonacci: 1.1920928955078125e-06 seconds\n",
            "Execution time of fibonacci: 7.152557373046875e-07 seconds\n",
            "Execution time of fibonacci: 0.00011181831359863281 seconds\n",
            "Execution time of fibonacci: 0.00038170814514160156 seconds\n",
            "Execution time of fibonacci: 4.76837158203125e-07 seconds\n",
            "Execution time of fibonacci: 4.76837158203125e-07 seconds\n",
            "Execution time of fibonacci: 6.723403930664062e-05 seconds\n",
            "Execution time of fibonacci: 9.5367431640625e-07 seconds\n",
            "Execution time of fibonacci: 0.000118255615234375 seconds\n",
            "Execution time of fibonacci: 0.0005486011505126953 seconds\n",
            "Execution time of fibonacci: 0.009334802627563477 seconds\n",
            "Execution time of fibonacci: 4.76837158203125e-07 seconds\n",
            "Execution time of fibonacci: 4.76837158203125e-07 seconds\n",
            "Execution time of fibonacci: 5.030632019042969e-05 seconds\n",
            "Execution time of fibonacci: 4.76837158203125e-07 seconds\n",
            "Execution time of fibonacci: 9.846687316894531e-05 seconds\n",
            "Execution time of fibonacci: 4.76837158203125e-07 seconds\n",
            "Execution time of fibonacci: 4.76837158203125e-07 seconds\n",
            "Execution time of fibonacci: 4.935264587402344e-05 seconds\n",
            "Execution time of fibonacci: 0.00020074844360351562 seconds\n",
            "Execution time of fibonacci: 4.76837158203125e-07 seconds\n",
            "Execution time of fibonacci: 4.76837158203125e-07 seconds\n",
            "Execution time of fibonacci: 4.839897155761719e-05 seconds\n",
            "Execution time of fibonacci: 4.76837158203125e-07 seconds\n",
            "Execution time of fibonacci: 8.106231689453125e-05 seconds\n",
            "Execution time of fibonacci: 0.0003211498260498047 seconds\n",
            "Execution time of fibonacci: 7.152557373046875e-07 seconds\n",
            "Execution time of fibonacci: 9.5367431640625e-07 seconds\n",
            "Execution time of fibonacci: 8.511543273925781e-05 seconds\n",
            "Execution time of fibonacci: 7.152557373046875e-07 seconds\n",
            "Execution time of fibonacci: 0.00013685226440429688 seconds\n",
            "Execution time of fibonacci: 7.152557373046875e-07 seconds\n",
            "Execution time of fibonacci: 4.76837158203125e-07 seconds\n",
            "Execution time of fibonacci: 5.078315734863281e-05 seconds\n",
            "Execution time of fibonacci: 0.00023794174194335938 seconds\n",
            "Execution time of fibonacci: 0.017231225967407227 seconds\n",
            "Execution time of fibonacci: 0.026615142822265625 seconds\n",
            "Execution time of fibonacci: 4.76837158203125e-07 seconds\n",
            "Execution time of fibonacci: 4.76837158203125e-07 seconds\n",
            "Execution time of fibonacci: 4.744529724121094e-05 seconds\n",
            "Execution time of fibonacci: 4.76837158203125e-07 seconds\n",
            "Execution time of fibonacci: 0.00010776519775390625 seconds\n",
            "Execution time of fibonacci: 4.76837158203125e-07 seconds\n",
            "Execution time of fibonacci: 4.76837158203125e-07 seconds\n",
            "Execution time of fibonacci: 4.649162292480469e-05 seconds\n",
            "Execution time of fibonacci: 0.00020241737365722656 seconds\n",
            "Execution time of fibonacci: 4.76837158203125e-07 seconds\n",
            "Execution time of fibonacci: 4.76837158203125e-07 seconds\n",
            "Execution time of fibonacci: 0.00015163421630859375 seconds\n",
            "Execution time of fibonacci: 1.1920928955078125e-06 seconds\n",
            "Execution time of fibonacci: 0.0002391338348388672 seconds\n",
            "Execution time of fibonacci: 0.0004913806915283203 seconds\n",
            "Execution time of fibonacci: 4.76837158203125e-07 seconds\n",
            "Execution time of fibonacci: 9.5367431640625e-07 seconds\n",
            "Execution time of fibonacci: 0.00018072128295898438 seconds\n",
            "Execution time of fibonacci: 7.152557373046875e-07 seconds\n",
            "Execution time of fibonacci: 0.0002338886260986328 seconds\n",
            "Execution time of fibonacci: 4.76837158203125e-07 seconds\n",
            "Execution time of fibonacci: 7.152557373046875e-07 seconds\n",
            "Execution time of fibonacci: 5.1021575927734375e-05 seconds\n",
            "Execution time of fibonacci: 0.0003364086151123047 seconds\n",
            "Execution time of fibonacci: 0.010743379592895508 seconds\n",
            "Execution time of fibonacci: 4.76837158203125e-07 seconds\n",
            "Execution time of fibonacci: 2.384185791015625e-07 seconds\n",
            "Execution time of fibonacci: 5.507469177246094e-05 seconds\n",
            "Execution time of fibonacci: 4.76837158203125e-07 seconds\n",
            "Execution time of fibonacci: 0.00010466575622558594 seconds\n",
            "Execution time of fibonacci: 4.76837158203125e-07 seconds\n",
            "Execution time of fibonacci: 4.76837158203125e-07 seconds\n",
            "Execution time of fibonacci: 9.179115295410156e-05 seconds\n",
            "Execution time of fibonacci: 0.00025153160095214844 seconds\n",
            "Execution time of fibonacci: 4.76837158203125e-07 seconds\n",
            "Execution time of fibonacci: 4.76837158203125e-07 seconds\n",
            "Execution time of fibonacci: 5.030632019042969e-05 seconds\n",
            "Execution time of fibonacci: 4.76837158203125e-07 seconds\n",
            "Execution time of fibonacci: 9.894371032714844e-05 seconds\n",
            "Execution time of fibonacci: 0.0003991127014160156 seconds\n",
            "Execution time of fibonacci: 0.011201143264770508 seconds\n",
            "Execution time of fibonacci: 0.037863969802856445 seconds\n",
            "Execution time of fibonacci: 7.152557373046875e-07 seconds\n",
            "Execution time of fibonacci: 4.76837158203125e-07 seconds\n",
            "Execution time of fibonacci: 5.054473876953125e-05 seconds\n",
            "Execution time of fibonacci: 4.76837158203125e-07 seconds\n",
            "Execution time of fibonacci: 9.894371032714844e-05 seconds\n",
            "Execution time of fibonacci: 4.76837158203125e-07 seconds\n",
            "Execution time of fibonacci: 2.384185791015625e-07 seconds\n",
            "Execution time of fibonacci: 5.221366882324219e-05 seconds\n",
            "Execution time of fibonacci: 0.00020813941955566406 seconds\n",
            "Execution time of fibonacci: 4.76837158203125e-07 seconds\n",
            "Execution time of fibonacci: 4.76837158203125e-07 seconds\n",
            "Execution time of fibonacci: 5.0067901611328125e-05 seconds\n",
            "Execution time of fibonacci: 4.76837158203125e-07 seconds\n",
            "Execution time of fibonacci: 9.918212890625e-05 seconds\n",
            "Execution time of fibonacci: 0.00035691261291503906 seconds\n",
            "Execution time of fibonacci: 4.76837158203125e-07 seconds\n",
            "Execution time of fibonacci: 4.76837158203125e-07 seconds\n",
            "Execution time of fibonacci: 4.982948303222656e-05 seconds\n",
            "Execution time of fibonacci: 4.76837158203125e-07 seconds\n",
            "Execution time of fibonacci: 0.00010228157043457031 seconds\n",
            "Execution time of fibonacci: 4.76837158203125e-07 seconds\n",
            "Execution time of fibonacci: 2.384185791015625e-07 seconds\n",
            "Execution time of fibonacci: 5.269050598144531e-05 seconds\n",
            "Execution time of fibonacci: 0.00020766258239746094 seconds\n",
            "Execution time of fibonacci: 0.017254114151000977 seconds\n",
            "Execution time of fibonacci: 4.76837158203125e-07 seconds\n",
            "Execution time of fibonacci: 7.152557373046875e-07 seconds\n",
            "Execution time of fibonacci: 7.176399230957031e-05 seconds\n",
            "Execution time of fibonacci: 7.152557373046875e-07 seconds\n",
            "Execution time of fibonacci: 0.00012302398681640625 seconds\n",
            "Execution time of fibonacci: 4.76837158203125e-07 seconds\n",
            "Execution time of fibonacci: 4.76837158203125e-07 seconds\n",
            "Execution time of fibonacci: 5.054473876953125e-05 seconds\n",
            "Execution time of fibonacci: 0.0002224445343017578 seconds\n",
            "Execution time of fibonacci: 4.76837158203125e-07 seconds\n",
            "Execution time of fibonacci: 4.76837158203125e-07 seconds\n",
            "Execution time of fibonacci: 4.982948303222656e-05 seconds\n",
            "Execution time of fibonacci: 7.152557373046875e-07 seconds\n",
            "Execution time of fibonacci: 9.799003601074219e-05 seconds\n",
            "Execution time of fibonacci: 0.00038123130798339844 seconds\n",
            "Execution time of fibonacci: 0.01775050163269043 seconds\n",
            "Execution time of fibonacci: 4.76837158203125e-07 seconds\n",
            "Execution time of fibonacci: 4.76837158203125e-07 seconds\n",
            "Execution time of fibonacci: 4.982948303222656e-05 seconds\n",
            "Execution time of fibonacci: 4.76837158203125e-07 seconds\n",
            "Execution time of fibonacci: 0.00010132789611816406 seconds\n",
            "Execution time of fibonacci: 4.76837158203125e-07 seconds\n",
            "Execution time of fibonacci: 4.76837158203125e-07 seconds\n",
            "Execution time of fibonacci: 5.0067901611328125e-05 seconds\n",
            "Execution time of fibonacci: 0.0001995563507080078 seconds\n",
            "Execution time of fibonacci: 4.76837158203125e-07 seconds\n",
            "Execution time of fibonacci: 4.76837158203125e-07 seconds\n",
            "Execution time of fibonacci: 4.792213439941406e-05 seconds\n",
            "Execution time of fibonacci: 4.76837158203125e-07 seconds\n",
            "Execution time of fibonacci: 9.608268737792969e-05 seconds\n",
            "Execution time of fibonacci: 0.0003418922424316406 seconds\n",
            "Execution time of fibonacci: 4.76837158203125e-07 seconds\n",
            "Execution time of fibonacci: 7.152557373046875e-07 seconds\n",
            "Execution time of fibonacci: 5.173683166503906e-05 seconds\n",
            "Execution time of fibonacci: 4.76837158203125e-07 seconds\n",
            "Execution time of fibonacci: 0.00011730194091796875 seconds\n",
            "Execution time of fibonacci: 4.76837158203125e-07 seconds\n",
            "Execution time of fibonacci: 4.76837158203125e-07 seconds\n",
            "Execution time of fibonacci: 4.9591064453125e-05 seconds\n",
            "Execution time of fibonacci: 0.0002110004425048828 seconds\n",
            "Execution time of fibonacci: 0.0005998611450195312 seconds\n",
            "Execution time of fibonacci: 0.01839733123779297 seconds\n",
            "Execution time of fibonacci: 0.05630970001220703 seconds\n",
            "55\n"
          ]
        }
      ]
    },
    {
      "cell_type": "code",
      "source": [
        "from functools import wraps\n",
        "\n",
        "def debug(func):\n",
        "    @wraps(func)\n",
        "    def wrapper(*args, **kwargs):\n",
        "        print(f\"Calling {func.__name__} with args: {args} and kwargs: {kwargs}\")\n",
        "        result = func(*args, **kwargs)\n",
        "        print(f\"{func.__name__} returned: {result}\")\n",
        "        return result\n",
        "    return wrapper"
      ],
      "metadata": {
        "id": "XL54eZf_ioBM"
      },
      "execution_count": 8,
      "outputs": []
    },
    {
      "cell_type": "code",
      "source": [
        "@debug\n",
        "def add(x, y):\n",
        "    \"\"\"Returns the sum of x and y\"\"\"\n",
        "    return x + y\n",
        "\n",
        "@debug\n",
        "def greet(name, message=\"Hello\"):\n",
        "    \"\"\"Returns a greeting message with the name\"\"\"\n",
        "    return f\"{message}, {name}!\"\n",
        "\n",
        "print(add(2, 3))\n",
        "print(greet(\"Alice\"))\n",
        "print(greet(\"Bob\", message=\"Hi\"))"
      ],
      "metadata": {
        "colab": {
          "base_uri": "https://localhost:8080/"
        },
        "id": "8KjG45GAisxl",
        "outputId": "417f695c-ebab-4f89-8a13-6f21ae8e9bfd"
      },
      "execution_count": 9,
      "outputs": [
        {
          "output_type": "stream",
          "name": "stdout",
          "text": [
            "Calling add with args: (2, 3) and kwargs: {}\n",
            "add returned: 5\n",
            "5\n",
            "Calling greet with args: ('Alice',) and kwargs: {}\n",
            "greet returned: Hello, Alice!\n",
            "Hello, Alice!\n",
            "Calling greet with args: ('Bob',) and kwargs: {'message': 'Hi'}\n",
            "greet returned: Hi, Bob!\n",
            "Hi, Bob!\n"
          ]
        }
      ]
    },
    {
      "cell_type": "code",
      "source": [
        "from functools import wraps\n",
        "\n",
        "def memoize(func):\n",
        "    cache = {}\n",
        "    @wraps(func)\n",
        "    def wrapper(*args):\n",
        "        if args in cache:\n",
        "            return cache[args]\n",
        "        else:\n",
        "            result = func(*args)\n",
        "            cache[args] = result\n",
        "            return result\n",
        "    return wrapper"
      ],
      "metadata": {
        "id": "HG2Cootui0zb"
      },
      "execution_count": 10,
      "outputs": []
    },
    {
      "cell_type": "code",
      "source": [
        "@memoize\n",
        "def factorial(n):\n",
        "    \"\"\"Returns the factorial of n\"\"\"\n",
        "    if n == 0 or n == 1:\n",
        "        return 1\n",
        "    else:\n",
        "        return n * factorial(n - 1)\n",
        "@memoize\n",
        "def fibonacci(n):\n",
        "    \"\"\"Returns the nth Fibonacci number\"\"\"\n",
        "    if n == 0 or n == 1:\n",
        "        return n\n",
        "    else:\n",
        "        return fibonacci(n - 1) + fibonacci(n - 2)\n",
        "print(factorial(10))\n",
        "print(fibonacci(10))"
      ],
      "metadata": {
        "colab": {
          "base_uri": "https://localhost:8080/"
        },
        "id": "NhG1Qo3Zi419",
        "outputId": "f49e17b6-ed6e-43d2-f7d6-1109b735b145"
      },
      "execution_count": 11,
      "outputs": [
        {
          "output_type": "stream",
          "name": "stdout",
          "text": [
            "3628800\n",
            "55\n"
          ]
        }
      ]
    },
    {
      "cell_type": "code",
      "source": [
        "@timer\n",
        "@memoize\n",
        "def factorial(n):\n",
        "    \"\"\"Returns the factorial of n\"\"\"\n",
        "    if n == 0 or n == 1:\n",
        "        return 1\n",
        "    else:\n",
        "        return n * factorial(n - 1)\n",
        "@memoize\n",
        "def fibonacci(n):\n",
        "    \"\"\"Returns the nth Fibonacci number\"\"\"\n",
        "    if n == 0 or n == 1:\n",
        "        return n\n",
        "    else:\n",
        "        return fibonacci(n - 1) + fibonacci(n - 2)\n",
        "print(factorial(10))\n",
        "print(fibonacci(10))"
      ],
      "metadata": {
        "colab": {
          "base_uri": "https://localhost:8080/"
        },
        "id": "cC-uYSKgjEQ0",
        "outputId": "a2c65162-0ad2-4fc6-f083-b916fa44bc50"
      },
      "execution_count": 12,
      "outputs": [
        {
          "output_type": "stream",
          "name": "stdout",
          "text": [
            "Execution time of factorial: 1.9073486328125e-06 seconds\n",
            "Execution time of factorial: 0.00014829635620117188 seconds\n",
            "Execution time of factorial: 0.00018262863159179688 seconds\n",
            "Execution time of factorial: 0.00020742416381835938 seconds\n",
            "Execution time of factorial: 0.0002357959747314453 seconds\n",
            "Execution time of factorial: 0.00026869773864746094 seconds\n",
            "Execution time of factorial: 0.00029540061950683594 seconds\n",
            "Execution time of factorial: 0.0003178119659423828 seconds\n",
            "Execution time of factorial: 0.00033473968505859375 seconds\n",
            "Execution time of factorial: 0.0003643035888671875 seconds\n",
            "3628800\n",
            "55\n"
          ]
        }
      ]
    }
  ]
}