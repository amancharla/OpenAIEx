{
  "nbformat": 4,
  "nbformat_minor": 0,
  "metadata": {
    "colab": {
      "provenance": [],
      "mount_file_id": "1Nrhzhch8O5uLv24Ax4cjSgdjlaeqnTiT",
      "authorship_tag": "ABX9TyO1zaa0Ec6amp/URc4J00Dc",
      "include_colab_link": true
    },
    "kernelspec": {
      "name": "python3",
      "display_name": "Python 3"
    },
    "language_info": {
      "name": "python"
    }
  },
  "cells": [
    {
      "cell_type": "markdown",
      "metadata": {
        "id": "view-in-github",
        "colab_type": "text"
      },
      "source": [
        "<a href=\"https://colab.research.google.com/github/amancharla/OpenAIEx/blob/main/LanguageDetect.ipynb\" target=\"_parent\"><img src=\"https://colab.research.google.com/assets/colab-badge.svg\" alt=\"Open In Colab\"/></a>"
      ]
    },
    {
      "cell_type": "code",
      "source": [
        "\n",
        "!pip install openai\n",
        "!pip install tiktoken\n",
        "!pip install python-docx"
      ],
      "metadata": {
        "colab": {
          "base_uri": "https://localhost:8080/"
        },
        "id": "fuIikgWyJFnv",
        "outputId": "853f06a6-3839-44e8-ed78-25f2551327b1"
      },
      "execution_count": 2,
      "outputs": [
        {
          "output_type": "stream",
          "name": "stdout",
          "text": [
            "Collecting openai\n",
            "  Downloading openai-1.5.0-py3-none-any.whl (223 kB)\n",
            "\u001b[2K     \u001b[90m━━━━━━━━━━━━━━━━━━━━━━━━━━━━━━━━━━━━━━━━\u001b[0m \u001b[32m223.7/223.7 kB\u001b[0m \u001b[31m2.9 MB/s\u001b[0m eta \u001b[36m0:00:00\u001b[0m\n",
            "\u001b[?25hRequirement already satisfied: anyio<5,>=3.5.0 in /usr/local/lib/python3.10/dist-packages (from openai) (3.7.1)\n",
            "Requirement already satisfied: distro<2,>=1.7.0 in /usr/lib/python3/dist-packages (from openai) (1.7.0)\n",
            "Collecting httpx<1,>=0.23.0 (from openai)\n",
            "  Downloading httpx-0.25.2-py3-none-any.whl (74 kB)\n",
            "\u001b[2K     \u001b[90m━━━━━━━━━━━━━━━━━━━━━━━━━━━━━━━━━━━━━━━━\u001b[0m \u001b[32m75.0/75.0 kB\u001b[0m \u001b[31m5.2 MB/s\u001b[0m eta \u001b[36m0:00:00\u001b[0m\n",
            "\u001b[?25hRequirement already satisfied: pydantic<3,>=1.9.0 in /usr/local/lib/python3.10/dist-packages (from openai) (1.10.13)\n",
            "Requirement already satisfied: sniffio in /usr/local/lib/python3.10/dist-packages (from openai) (1.3.0)\n",
            "Requirement already satisfied: tqdm>4 in /usr/local/lib/python3.10/dist-packages (from openai) (4.66.1)\n",
            "Requirement already satisfied: typing-extensions<5,>=4.5 in /usr/local/lib/python3.10/dist-packages (from openai) (4.5.0)\n",
            "Requirement already satisfied: idna>=2.8 in /usr/local/lib/python3.10/dist-packages (from anyio<5,>=3.5.0->openai) (3.6)\n",
            "Requirement already satisfied: exceptiongroup in /usr/local/lib/python3.10/dist-packages (from anyio<5,>=3.5.0->openai) (1.2.0)\n",
            "Requirement already satisfied: certifi in /usr/local/lib/python3.10/dist-packages (from httpx<1,>=0.23.0->openai) (2023.11.17)\n",
            "Collecting httpcore==1.* (from httpx<1,>=0.23.0->openai)\n",
            "  Downloading httpcore-1.0.2-py3-none-any.whl (76 kB)\n",
            "\u001b[2K     \u001b[90m━━━━━━━━━━━━━━━━━━━━━━━━━━━━━━━━━━━━━━━━\u001b[0m \u001b[32m76.9/76.9 kB\u001b[0m \u001b[31m7.2 MB/s\u001b[0m eta \u001b[36m0:00:00\u001b[0m\n",
            "\u001b[?25hCollecting h11<0.15,>=0.13 (from httpcore==1.*->httpx<1,>=0.23.0->openai)\n",
            "  Downloading h11-0.14.0-py3-none-any.whl (58 kB)\n",
            "\u001b[2K     \u001b[90m━━━━━━━━━━━━━━━━━━━━━━━━━━━━━━━━━━━━━━━━\u001b[0m \u001b[32m58.3/58.3 kB\u001b[0m \u001b[31m6.5 MB/s\u001b[0m eta \u001b[36m0:00:00\u001b[0m\n",
            "\u001b[?25hInstalling collected packages: h11, httpcore, httpx, openai\n",
            "\u001b[31mERROR: pip's dependency resolver does not currently take into account all the packages that are installed. This behaviour is the source of the following dependency conflicts.\n",
            "llmx 0.0.15a0 requires cohere, which is not installed.\n",
            "llmx 0.0.15a0 requires tiktoken, which is not installed.\u001b[0m\u001b[31m\n",
            "\u001b[0mSuccessfully installed h11-0.14.0 httpcore-1.0.2 httpx-0.25.2 openai-1.5.0\n",
            "Collecting tiktoken\n",
            "  Downloading tiktoken-0.5.2-cp310-cp310-manylinux_2_17_x86_64.manylinux2014_x86_64.whl (2.0 MB)\n",
            "\u001b[2K     \u001b[90m━━━━━━━━━━━━━━━━━━━━━━━━━━━━━━━━━━━━━━━━\u001b[0m \u001b[32m2.0/2.0 MB\u001b[0m \u001b[31m7.4 MB/s\u001b[0m eta \u001b[36m0:00:00\u001b[0m\n",
            "\u001b[?25hRequirement already satisfied: regex>=2022.1.18 in /usr/local/lib/python3.10/dist-packages (from tiktoken) (2023.6.3)\n",
            "Requirement already satisfied: requests>=2.26.0 in /usr/local/lib/python3.10/dist-packages (from tiktoken) (2.31.0)\n",
            "Requirement already satisfied: charset-normalizer<4,>=2 in /usr/local/lib/python3.10/dist-packages (from requests>=2.26.0->tiktoken) (3.3.2)\n",
            "Requirement already satisfied: idna<4,>=2.5 in /usr/local/lib/python3.10/dist-packages (from requests>=2.26.0->tiktoken) (3.6)\n",
            "Requirement already satisfied: urllib3<3,>=1.21.1 in /usr/local/lib/python3.10/dist-packages (from requests>=2.26.0->tiktoken) (2.0.7)\n",
            "Requirement already satisfied: certifi>=2017.4.17 in /usr/local/lib/python3.10/dist-packages (from requests>=2.26.0->tiktoken) (2023.11.17)\n",
            "Installing collected packages: tiktoken\n",
            "\u001b[31mERROR: pip's dependency resolver does not currently take into account all the packages that are installed. This behaviour is the source of the following dependency conflicts.\n",
            "llmx 0.0.15a0 requires cohere, which is not installed.\u001b[0m\u001b[31m\n",
            "\u001b[0mSuccessfully installed tiktoken-0.5.2\n",
            "Collecting python-docx\n",
            "  Downloading python_docx-1.1.0-py3-none-any.whl (239 kB)\n",
            "\u001b[2K     \u001b[90m━━━━━━━━━━━━━━━━━━━━━━━━━━━━━━━━━━━━━━━━\u001b[0m \u001b[32m239.6/239.6 kB\u001b[0m \u001b[31m3.8 MB/s\u001b[0m eta \u001b[36m0:00:00\u001b[0m\n",
            "\u001b[?25hRequirement already satisfied: lxml>=3.1.0 in /usr/local/lib/python3.10/dist-packages (from python-docx) (4.9.3)\n",
            "Requirement already satisfied: typing-extensions in /usr/local/lib/python3.10/dist-packages (from python-docx) (4.5.0)\n",
            "Installing collected packages: python-docx\n",
            "Successfully installed python-docx-1.1.0\n"
          ]
        }
      ]
    },
    {
      "cell_type": "code",
      "source": [
        "!pip install docx"
      ],
      "metadata": {
        "colab": {
          "base_uri": "https://localhost:8080/"
        },
        "id": "zDgplc7vv2Ik",
        "outputId": "10969971-dfab-4f70-d64c-4a5402e78600"
      },
      "execution_count": 3,
      "outputs": [
        {
          "output_type": "stream",
          "name": "stdout",
          "text": [
            "Collecting docx\n",
            "  Downloading docx-0.2.4.tar.gz (54 kB)\n",
            "\u001b[?25l     \u001b[90m━━━━━━━━━━━━━━━━━━━━━━━━━━━━━━━━━━━━━━━━\u001b[0m \u001b[32m0.0/54.9 kB\u001b[0m \u001b[31m?\u001b[0m eta \u001b[36m-:--:--\u001b[0m\r\u001b[2K     \u001b[90m━━━━━━━━━━━━━━━━━━━━━━━━━━━━━━━━━━━━━━━━\u001b[0m \u001b[32m54.9/54.9 kB\u001b[0m \u001b[31m1.5 MB/s\u001b[0m eta \u001b[36m0:00:00\u001b[0m\n",
            "\u001b[?25h  Preparing metadata (setup.py) ... \u001b[?25l\u001b[?25hdone\n",
            "Requirement already satisfied: lxml in /usr/local/lib/python3.10/dist-packages (from docx) (4.9.3)\n",
            "Requirement already satisfied: Pillow>=2.0 in /usr/local/lib/python3.10/dist-packages (from docx) (9.4.0)\n",
            "Building wheels for collected packages: docx\n",
            "  Building wheel for docx (setup.py) ... \u001b[?25l\u001b[?25hdone\n",
            "  Created wheel for docx: filename=docx-0.2.4-py3-none-any.whl size=53895 sha256=cba251ec0ec4d2dcb672b1ef9efbd4874be96818c13af111f5c84260a34b593e\n",
            "  Stored in directory: /root/.cache/pip/wheels/81/f5/1d/e09ba2c1907a43a4146d1189ae4733ca1a3bfe27ee39507767\n",
            "Successfully built docx\n",
            "Installing collected packages: docx\n",
            "Successfully installed docx-0.2.4\n"
          ]
        }
      ]
    },
    {
      "cell_type": "code",
      "source": [
        "import docx"
      ],
      "metadata": {
        "id": "N6f3mQeGK3yJ"
      },
      "execution_count": 4,
      "outputs": []
    },
    {
      "cell_type": "code",
      "source": [],
      "metadata": {
        "id": "WTZmY-lnvz2r"
      },
      "execution_count": null,
      "outputs": []
    },
    {
      "cell_type": "code",
      "source": [
        "import openai  # for calling the OpenAI API\n",
        "import pandas as pd  # for storing text and embeddings data\n",
        "import tiktoken  # for counting tokens"
      ],
      "metadata": {
        "id": "ggjzPduMJIhn"
      },
      "execution_count": 5,
      "outputs": []
    },
    {
      "cell_type": "code",
      "source": [
        "\n",
        "from openai import OpenAI\n",
        "from google.colab import userdata\n",
        "\n",
        "userdata.get('OPENAI_API_KEY')\n",
        "openai.api_key = userdata.get('OPENAI_API_KEY')\n",
        "\n",
        "client = OpenAI(\n",
        "    # defaults to os.environ.get(\"OPENAI_API_KEY\")\n",
        "    api_key=openai.api_key,\n",
        ")"
      ],
      "metadata": {
        "id": "YT_eEJI8JUz_"
      },
      "execution_count": 6,
      "outputs": []
    },
    {
      "cell_type": "code",
      "source": [
        "def getText(filename):\n",
        "    doc = docx.Document(filename)\n",
        "    fullText = []\n",
        "    for para in doc.paragraphs:\n",
        "        fullText.append(para.text)\n",
        "    return '\\n'.join(fullText)"
      ],
      "metadata": {
        "id": "5DqRyI-hJp_n"
      },
      "execution_count": 7,
      "outputs": []
    },
    {
      "cell_type": "code",
      "source": [
        "\n",
        "def save_as_docx(heading, paragraph, text, filename):\n",
        "    doc = docx.Document()\n",
        "    doc.add_heading(heading, 1)\n",
        "    doc.add_paragraph(paragraph, 'Title')\n",
        "    doc.add_paragraph(text)\n",
        "    doc.save(filename)"
      ],
      "metadata": {
        "id": "rs8hBvJbLzLJ"
      },
      "execution_count": 8,
      "outputs": []
    },
    {
      "cell_type": "code",
      "source": [
        "# prompt: mount google drive\n",
        "\n",
        "from google.colab import drive\n",
        "drive.mount('/content/drive', force_remount=True)\n"
      ],
      "metadata": {
        "colab": {
          "base_uri": "https://localhost:8080/"
        },
        "id": "JLSiTnWTxM7p",
        "outputId": "56dfb276-dc6e-45cb-932e-970547234bec"
      },
      "execution_count": 11,
      "outputs": [
        {
          "output_type": "stream",
          "name": "stdout",
          "text": [
            "Mounted at /content/drive\n"
          ]
        }
      ]
    },
    {
      "cell_type": "code",
      "source": [
        "#abstract = getText('/content/drive/MyDrive/data/HindiSample.pdf')\n",
        "story_in_en = getText('/content/drive/MyDrive/data/hindi-hi.docx')\n",
        "print(story_in_en)"
      ],
      "metadata": {
        "colab": {
          "base_uri": "https://localhost:8080/"
        },
        "id": "5Uqf1DWGLPlP",
        "outputId": "f33479df-063b-4502-e412-5dff79583c5b"
      },
      "execution_count": 13,
      "outputs": [
        {
          "output_type": "stream",
          "name": "stdout",
          "text": [
            "सेब \n",
            "सेब एक फल है। सेब का रंग लाल या हरा होता है।\n",
            "यह भारत के उत्तरी प्रदेश हिमाचल मे पैदा होता है , इसमे विटामिन होते हैं सेब सेब के पेड़, प्रजातियों Malus में domestica के pomaceous फल परिवार Rosaceae गुलाब है. यह सबसे व्यापक रूप से खेती वृक्ष के फल में से एक है. वृक्ष छोटे और पर्णपाती है, 12 मीटर (9.8-39 फुट) लंबा एक व्यापक, अक्सर घनी twiggy मुकुट के साथ, से 3 तक पहुंच गया. [2] पत्ते बारी की व्यवस्था कर रहे हैं सरल ovals 5 12 सेमी लंबे और 3-6 सेंटीमीटर (को में 1.2-2.4) एक 2-5 सेंटीमीटर (0.79 में 2.0) डंठल पर व्यापक एक तीव्र टिप, दाँतेदार मार्जिन और एक थोड़ा नरम underside के साथ. फूल वसंत ऋतु में एक साथ उत्पादन के साथ कर रहे हैं पत्ते की नवोदित. फूलों की एक गुलाबी रंग के साथ सफेद रंग की होती है कि धीरे धीरे fades, पांच petaled, और 2.5-3.5 सेंटीमीटर (0.98 में 1.4) व्यास में. फल शरद ऋतु में परिपक्व, और आमतौर पर 5-9 सेंटीमीटर (2.0 से 3.5 में) व्यास है. फल के केंद्र में पांच पांच में आयोजित सूत्री स्टार, हरेक को तीन बीज युक्त कापेल carpels शामिल हैं. [2] सेब\n",
            "एक ठेठ सेब वैज्ञानिक वर्गीकरण ब्रिटेन: Plantae (अनरैंक): आवृत्तबीजी वनस्पतियों (अनरैंक): Eudicots (अनरैंक): Rosids आदेश: Rosales परिवार: Rosaceae उपपरिवार: Maloideae या [1] Spiraeoideae जनजाति: Maleae जीनस: Malus प्रजाति: एम. domestica द्विपद नाम Malus domestica Borkh. सेब सेब के पेड़, गुलाब के परिवार में प्रजातियों Malus domestica (Rosaceae) की pomaceous फल है. यह एक सबसे अधिक व्यापक रूप से खेती के पेड़ के फल का है, और सबसे व्यापक रूप से जीनस Malus कि मनुष्य द्वारा किया जाता के कई सदस्यों के ज्ञात. पेड़ पश्चिमी एशिया में, जहां आज अपनी जंगली पूर्वज, अल्मा, अभी भी पाया जाता है में शुरु हुआ. वहां सेब की 7500 से अधिक जाना जाता cultivars, वांछित विशेषताओं के एक किस्म में जिसके परिणामस्वरूप कर रहे हैं. Cultivars उनके उपज और पेड़ की अंतिम आकार में भिन्नता है, तब भी जब एक ही rootstock पर हो. [2] सेब के एक लाख से कम से कम 55 टन 2005 में दुनिया भर में बड़े हो रहे थे के बारे में 10 अरब डॉलर का एक मूल्य के साथ. चीन इस योग के बारे में 35% का उत्पादन किया. [3] संयुक्त राज्य अमेरिका निर्माता दूसरी दुनिया के अग्रणी उत्पादन का 7.5% से अधिक के साथ है. ईरान तिहाई है, तुर्की, रूस, इटली और भारत द्वारा पीछा किया. सामग्री [छुपाने] 1 वानस्पतिक जानकारी 1.1 जंगली पूर्वजों 1.2 जीनोम 2 इतिहास 3 सांस्कृतिक पहलुओं 3.1 युरोपीय बुतपरस्ती 3.2 ग्रीक पौराणिक कथाओं 3.3 ईडन गार्डन में एप्पल 4 एप्पल cultivars 5 एप्पल उत्पादन 5.1 एप्पल प्रजनन 5.2 एप्पल rootstocks 5.3 परागण 5.4 परिपक्वता और फसल 5.5 संग्रहण 5.6 कीट और रोगों 5.7 अभिलेख 6 वाणिज्य 7 मानव खपत 7.1 शहीदों सेब 7.2 एप्पल एलर्जी 7.2.1 लक्षण 8 स्वास्थ्य लाभ 9 सन्दर्भ 10 बाहरी लिंक वानस्पतिक जानकारी\n",
            "\n",
            "फूल, फल, और सेब के पेड़ की पत्तियों (Malus domestica)\n",
            "\n",
            "वाइल्ड कजाखस्तान में Malus sieversii सेब सेब एक पेड़ है कि छोटे और पर्णपाती है रूपों, 3 से 12 (9.8-39 फीट) मीटर लंबा पहुँचने के बाद, एक व्यापक, अक्सर घनी twiggy मुकुट के साथ. [4] पत्तियां एकांतर सरल 5-12 सेमी लंबी और 3 ovals व्यवस्था कर रहे हैं -6 (में 1.2-2.4) सेंटीमीटर 2 से 5 (0.79 में 2.0) एक तीव्र टिप, दाँतेदार मार्जिन और एक थोड़ा नरम underside साथ सेंटीमीटर डंठल पर व्यापक. फूल वसंत ऋतु में उत्पादित कर रहे हैं एक साथ पत्तियों के साथ नवोदित. फूल एक गुलाबी रंग के साथ सफेद रहे हैं कि धीरे धीरे fades, पांच petaled, और 2.5-3.5 सेंटीमीटर (0.98 में 1.4) व्यास में. फल शरद ऋतु में परिपक्व होती है, और आमतौर पर व्यास में 5-9 सेंटीमीटर (2.0 से 3.5 में) है. फल के केंद्र में पांच सितारा पांच बिन्दु में व्यवस्थित carpels, प्रत्येक 1-3 बीज युक्त कापेल, बुलाया pips के होते हैं. [4] जंगली पूर्वजों मुख्य लेख: Malus sieversii Malus domestica के जंगली पूर्वजों Malus sieversii हैं, दक्षिणी कजाखस्तान, किर्गिस्तान, ताजिकिस्तान, और झिंजियांग, चीन में मध्य एशिया के पहाड़ों में जंगली बढ़ रही है, [5] और संभवतः भी Malus sylvestris. [6] पाया इन्हें भी देखें: फलों के पेड़ प्रचार जीनोम 2010 में, एक संघ इतालवी नीत घोषणा की कि वे का पूरा जीनोम डिकोड था सेब (स्वर्ण स्वादिष्ट किस्म). [7] यह 57000 के बारे में जीन की थी, किसी भी संयंत्र जीनोम की संख्या सबसे ज्यादा मानव जीनोम से तारीख और अधिक जीनों के लिए अध्ययन (30000) के बारे में. [8] इतिहास\n",
            "\n",
            "यह सामग्री क्रियेटिव कॉमन्स ऍट्रीब्यूशन/शेयर-अलाइक लाइसेंस के तहत उपलब्ध है; अन्य शर्ते लागू हो सकती हैं। विस्तार से जानकारी हेतु देखें उपयोग की शर्तें\n"
          ]
        }
      ]
    },
    {
      "cell_type": "code",
      "source": [
        "from openai import OpenAI\n",
        "\n",
        "def find_the_lang(the_text):\n",
        "  the_lang_of_text = client.chat.completions.create(\n",
        "    model=\"gpt-4\",\n",
        "    messages=[\n",
        "      {\n",
        "        \"role\": \"system\",\n",
        "        \"content\": \"You are the language genie. You will read the text and identify the language.\"\n",
        "      },\n",
        "      {\n",
        "        \"role\": \"user\",\n",
        "        \"content\": the_text\n",
        "      }\n",
        "    ],\n",
        "    temperature=0.7,\n",
        "    max_tokens=640,\n",
        "    top_p=1\n",
        "  )\n",
        "  return the_lang_of_text"
      ],
      "metadata": {
        "id": "5vzBx3umyp0x"
      },
      "execution_count": 16,
      "outputs": []
    },
    {
      "cell_type": "code",
      "source": [
        "theSrcLangText = find_the_lang(story_in_en)\n",
        "print(theSrcLangText)\n",
        "srcLang = theSrcLangText.choices[0].message.content.strip('The language of the text is ')\n",
        "print(srcLang)\n"
      ],
      "metadata": {
        "colab": {
          "base_uri": "https://localhost:8080/"
        },
        "id": "TcGDjC0NzGyD",
        "outputId": "d55d01a3-6ea0-46a5-a30b-9ec5ca364182"
      },
      "execution_count": 30,
      "outputs": [
        {
          "output_type": "stream",
          "name": "stdout",
          "text": [
            "ChatCompletion(id='chatcmpl-8WtlYQefGNFORmIpTRQwfB3dan82l', choices=[Choice(finish_reason='stop', index=0, logprobs=None, message=ChatCompletionMessage(content='The language of the text is Hindi.', role='assistant', function_call=None, tool_calls=None))], created=1702851552, model='gpt-4-0613', object='chat.completion', system_fingerprint=None, usage=CompletionUsage(completion_tokens=8, prompt_tokens=3625, total_tokens=3633))\n",
            "Hindi.\n"
          ]
        }
      ]
    },
    {
      "cell_type": "code",
      "source": [
        "print(str(type(srcLang)))"
      ],
      "metadata": {
        "colab": {
          "base_uri": "https://localhost:8080/"
        },
        "id": "FETeCMCsz92w",
        "outputId": "2dd55abe-bb8b-4e8a-c7ba-ce81c0702224"
      },
      "execution_count": 34,
      "outputs": [
        {
          "output_type": "stream",
          "name": "stdout",
          "text": [
            "<class 'str'>\n"
          ]
        }
      ]
    },
    {
      "cell_type": "code",
      "source": [],
      "metadata": {
        "id": "Kap3d_HU3t90"
      },
      "execution_count": null,
      "outputs": []
    },
    {
      "cell_type": "code",
      "execution_count": 26,
      "metadata": {
        "id": "fEA5Zy2SI9Hk"
      },
      "outputs": [],
      "source": [
        "from openai import OpenAI\n",
        "from openai import OpenAI\n",
        "\n",
        "def translate_text(thesourceText, source_lang, target_lang):\n",
        "  text_in_target = client.chat.completions.create(\n",
        "    model=\"gpt-4\",\n",
        "    messages=[\n",
        "      {\n",
        "        \"role\": \"system\",\n",
        "        \"content\": \"You will be provided with a sentence in \"+ source_lang +\", and your task is to translate it into \" + target_lang\n",
        "      },\n",
        "      {\n",
        "        \"role\": \"user\",\n",
        "        \"content\": thesourceText\n",
        "      }\n",
        "    ],\n",
        "    temperature=0.7,\n",
        "    max_tokens=640,\n",
        "    top_p=1,\n",
        "    stream=True\n",
        "  )\n",
        "  text_in_target_final = \"\"\n",
        "  for chunk in text_in_target:\n",
        "    #print(chunk.choices[0].delta.content)\n",
        "    if chunk.choices[0].delta.content is not None:\n",
        "        #print(chunk.choices[0].delta.content, end=\"\")\n",
        "\n",
        "      text_in_target_final = text_in_target_final +chunk.choices[0].delta.content\n",
        "  return text_in_target_final"
      ]
    },
    {
      "cell_type": "code",
      "source": [
        "targLang = \"English\"\n",
        "story_in_targetLang = translate_text(story_in_en, srcLang, targLang)"
      ],
      "metadata": {
        "id": "JSqCCcTXPktc"
      },
      "execution_count": 27,
      "outputs": []
    },
    {
      "cell_type": "code",
      "source": [
        "print(story_in_targetLang)"
      ],
      "metadata": {
        "colab": {
          "base_uri": "https://localhost:8080/"
        },
        "id": "U0wRRpXVR5FX",
        "outputId": "eea8b831-d9cb-4ded-f7b9-b7c3deb18978"
      },
      "execution_count": 28,
      "outputs": [
        {
          "output_type": "stream",
          "name": "stdout",
          "text": [
            "Apple\n",
            "Apple is a fruit. The color of an apple is either red or green.\n",
            "It is produced in Himachal Pradesh, North India, and contains vitamins. The apple tree is a pomaceous fruit of the Malus species in the Rosaceae family. It is one of the most widely cultivated tree fruits. The tree is small and deciduous, reaching 3 to 12 meters in height, often with a dense, twiggy crown. The leaves are arranged in a simple ovals 5 to 12 cm long and 3-6 cm wide on a serrated margin with a slightly soft underside. The flowers are produced together with the emergence of leaves in the spring season. The flowers are white with a pinkish hue that slowly fades, five-petaled, and 2.5-3.5 cm in diameter. The fruit matures in the autumn season, and is typically 5-9 cm in diameter. The center of the fruit has five carpels arranged in a star pattern, each containing three seeds. \n",
            "\n",
            "A pure apple scientific classification Britain: Plantae (Unranked): Angiosperms (Unranked): Eudicots (Unranked): Rosids Order: Rosales Family: Rosaceae Subfamily: Maloideae or [1] Spiraeoideae Tribe: Maleae Genus: Malus Species: M. domestica Binomial name Malus domestica Borkh. Apple, a pomaceous fruit of the Malus domestica (Rosaceae) species in the rose family. It is the most widely cultivated tree fruit, and the most widely known of the many members of the genus Malus that are used by humans. The tree originated in Western Asia, where its wild ancestor, the Alma, is still found today. There are known to be over 7500 apple cultivars, resulting in a variety of desired features. Cultivars vary in their yield and the ultimate size of the tree, even when grown on the same rootstock. [2] About 55 million tonnes of apples were grown worldwide in 2005, with a value of about 10 billion dollars. China produced about 35% of this total. [3] The United States is the world's second-leading producer, with more than 7.5% of world production. Iran is third, followed by Turkey, Russia, Italy, and India. \n",
            "\n",
            "Contents [hide] 1 Botanical information 1.1 Wild ancestors 1.2 Genome 2 History 3 Cultural aspects 3.1 European paganism 3.2 Greek mythological stories 3.3 Apple in Eden Garden 4 Apple cultivars 5 Apple production 5.1 Apple reproduction 5.2 Apple rootstocks 5.3 Pollination 5.4 Maturity and crop 5.5 Collection 5.6 Pests and diseases 5.7 Records 6 Commerce 7 Human consumption 7.1 Cider apples 7.2 Apple allergy 7.2.1 Symptoms 8 Health benefits 9 References 10 External links Botanical information\n",
            "\n",
            "Fl\n"
          ]
        }
      ]
    },
    {
      "cell_type": "code",
      "source": [
        "strTT= str(theSrcLangText)"
      ],
      "metadata": {
        "id": "UZ1r-Dxv34KM"
      },
      "execution_count": 37,
      "outputs": []
    },
    {
      "cell_type": "code",
      "source": [],
      "metadata": {
        "id": "BEw8y1VL34TB"
      },
      "execution_count": null,
      "outputs": []
    },
    {
      "cell_type": "code",
      "source": [
        "#save_as_docx(abstract_text_en.choices[0].message.content, 'abstract_text_hindi.docx')\n",
        "save_as_docx(\" Translated From \"+ srcLang  + \" to \"+ targLang, \" AI Translation src text: \" + story_in_en, story_in_targetLang, srcLang+\"_\"+\"to\"+targLang+\".docx\")"
      ],
      "metadata": {
        "id": "TrGpLhXRL7ay"
      },
      "execution_count": 39,
      "outputs": []
    }
  ]
}